{
  "cells": [
    {
      "cell_type": "markdown",
      "metadata": {
        "id": "HkEKYbQtGT5N"
      },
      "source": [
        "# 1. What is **NumPy**?\n",
        "\n"
      ]
    },
    {
      "cell_type": "markdown",
      "metadata": {
        "id": "fiF84fXkGYfv"
      },
      "source": [
        "NumPy is one of the most widely used numerical computing libraries in Python.\n",
        "\n",
        "This library supports large, multi-dimensional arrays and matrices, and includes a variety of mathematical functions to operate on these arrays."
      ]
    },
    {
      "cell_type": "markdown",
      "metadata": {
        "id": "_5T434-2Kdmz"
      },
      "source": [
        "Advantages of Using NumPy over Pure Python:\n",
        "\n",
        "1. **Performance**: NumPy operations are implemented in C and optimized. This makes NumPy operations faster than standard Python operations, especially for larger datasets.\n",
        "\n",
        "2. **Memory Efficiency**: NumPy arrays are more memory efficient than Python lists, allowing for storage and manipulation of large datasets.\n",
        "\n",
        "3. **Convenience**: NumPy provides many built-in functions for mathematical and statistical operations, eliminating the need to implement these functions from scratch.\n",
        "\n",
        "4. **Interoperability**: NumPy can integrate with a variety of databases and can work seamlessly with other libraries like SciPy, scikit-learn, and Pandas.\n",
        "\n",
        "5. **Vectorized Operations**: Unlike Python lists, NumPy allows for element-wise operations, making mathematical computations on arrays straightforward."
      ]
    },
    {
      "cell_type": "markdown",
      "metadata": {
        "id": "vJs0ThyrGehK"
      },
      "source": [
        "## a. NumPy Arrays (**ndarray**)"
      ]
    },
    {
      "cell_type": "markdown",
      "metadata": {
        "id": "7gJ3UWUEG5Um"
      },
      "source": [
        "The heart of the NumPy library is the **ndarray** object.\n",
        "\n",
        "Unlike Python lists, **ndarray** objects are homogeneous, meaning all elements of the array must be of the same type.\n",
        "\n"
      ]
    },
    {
      "cell_type": "markdown",
      "metadata": {
        "id": "DOewlpv2Lx2-"
      },
      "source": [
        "Creating Arrays from **Python Lists**:"
      ]
    },
    {
      "cell_type": "code",
      "execution_count": 1,
      "metadata": {
        "colab": {
          "base_uri": "https://localhost:8080/"
        },
        "id": "f9yaJ08QGzLF",
        "outputId": "348c6469-6031-43d3-8243-eb4931e39a1d"
      },
      "outputs": [
        {
          "name": "stdout",
          "output_type": "stream",
          "text": [
            "[1 2 3]\n",
            "[[1 2 3]\n",
            " [4 5 6]]\n"
          ]
        }
      ],
      "source": [
        "import numpy as np\n",
        "\n",
        "# 1-dimensional array\n",
        "a = np.array([1, 2, 3])\n",
        "print(a)\n",
        "\n",
        "# 2-dimensional array\n",
        "b = np.array([[1, 2, 3], [4, 5, 6]])\n",
        "print(b)"
      ]
    },
    {
      "cell_type": "markdown",
      "metadata": {
        "id": "1mJ0IHZQL2B5"
      },
      "source": [
        "Using **arange** and **linspace**"
      ]
    },
    {
      "cell_type": "code",
      "execution_count": 51,
      "metadata": {
        "colab": {
          "base_uri": "https://localhost:8080/"
        },
        "id": "kqNs1LtqL-5D",
        "outputId": "9f8b4d8b-05a0-4ffd-dc4b-c16b365e55b8"
      },
      "outputs": [
        {
          "name": "stdout",
          "output_type": "stream",
          "text": [
            "[0 2 4 6 8]\n"
          ]
        }
      ],
      "source": [
        "c = np.arange(0, 10, 2)  # Values from 0 to 9 incremented by 2\n",
        "print(c)"
      ]
    },
    {
      "cell_type": "code",
      "execution_count": 3,
      "metadata": {
        "colab": {
          "base_uri": "https://localhost:8080/"
        },
        "id": "PKMQ4soRMAqm",
        "outputId": "82672a6f-ca71-476d-8234-9731800af808"
      },
      "outputs": [
        {
          "name": "stdout",
          "output_type": "stream",
          "text": [
            "[ 0.   2.5  5.   7.5 10. ]\n"
          ]
        }
      ],
      "source": [
        "d = np.linspace(0, 10, 5)  # 5 items evenly spaced between 0 and 10\n",
        "print(d)"
      ]
    },
    {
      "cell_type": "markdown",
      "metadata": {
        "id": "gSkWtLyBHPud"
      },
      "source": [
        "## b. Properties of Arrays"
      ]
    },
    {
      "cell_type": "code",
      "execution_count": 4,
      "metadata": {
        "colab": {
          "base_uri": "https://localhost:8080/"
        },
        "id": "U935nkeCHBq9",
        "outputId": "63da1d87-cdab-4ecc-93d0-a793932ed4f9"
      },
      "outputs": [
        {
          "name": "stdout",
          "output_type": "stream",
          "text": [
            "(2, 3)\n",
            "2\n",
            "int32\n",
            "6\n"
          ]
        }
      ],
      "source": [
        "arr = np.array([[1, 2, 3], [4, 5, 6]])\n",
        "\n",
        "# Shape of the array (rows, columns)\n",
        "print(arr.shape)\n",
        "\n",
        "# Number of dimensions\n",
        "print(arr.ndim)\n",
        "\n",
        "# Data type of the array\n",
        "print(arr.dtype)\n",
        "\n",
        "# Total number of elements in the array\n",
        "print(arr.size)\n"
      ]
    },
    {
      "cell_type": "markdown",
      "metadata": {
        "id": "FxmNbI0DT7tF"
      },
      "source": [
        "You can explicitly set the dtype when creating an array using the **dtype** parameter."
      ]
    },
    {
      "cell_type": "code",
      "execution_count": 5,
      "metadata": {
        "colab": {
          "base_uri": "https://localhost:8080/"
        },
        "id": "sOeuJgp2T83T",
        "outputId": "b9278ce1-8801-42ba-c9dc-646a52e0e063"
      },
      "outputs": [
        {
          "name": "stdout",
          "output_type": "stream",
          "text": [
            "[1. 2. 3.]\n",
            "float32\n"
          ]
        }
      ],
      "source": [
        "float_arr = np.array([1, 2, 3], dtype=np.float32)\n",
        "print(float_arr)\n",
        "print(float_arr.dtype)"
      ]
    },
    {
      "cell_type": "markdown",
      "metadata": {
        "id": "3I-CAFCJT-00"
      },
      "source": [
        "You can change the data type of an existing array using the **astype** method."
      ]
    },
    {
      "cell_type": "code",
      "execution_count": 6,
      "metadata": {
        "colab": {
          "base_uri": "https://localhost:8080/"
        },
        "id": "klox-D0NT_pJ",
        "outputId": "667b2793-8fe6-48b1-e579-969119d2cdda"
      },
      "outputs": [
        {
          "name": "stdout",
          "output_type": "stream",
          "text": [
            "[1 2 3]\n",
            "int64\n"
          ]
        }
      ],
      "source": [
        "int_arr = float_arr.astype(np.int64)\n",
        "print(int_arr)\n",
        "print(int_arr.dtype)"
      ]
    },
    {
      "cell_type": "code",
      "execution_count": 7,
      "metadata": {},
      "outputs": [
        {
          "name": "stdout",
          "output_type": "stream",
          "text": [
            "[1. 2. 3.]\n"
          ]
        }
      ],
      "source": [
        "# astype() function doesn't change its parameter\n",
        "print(float_arr)"
      ]
    },
    {
      "cell_type": "markdown",
      "metadata": {
        "id": "4t4BXV2gUJ4J"
      },
      "source": [
        "Common dtype values:\n",
        "\n",
        "**int8, int16, int32, int64**: Integer types that can store values using 8, 16, 32, or 64 bits respectively.\n",
        "\n",
        "**uint8, uint16, uint32, uint64**: Unsigned (non-negative) integer types.\n",
        "\n",
        "**float16, float32, float64**: Floating point types that use 16, 32, or 64 bits respectively.\n",
        "\n",
        "**bool**: Boolean type storing True and False values."
      ]
    },
    {
      "cell_type": "markdown",
      "metadata": {
        "id": "TcExwqR9Gv-Y"
      },
      "source": [
        "## c. Creating Arrays in Various Ways"
      ]
    },
    {
      "cell_type": "code",
      "execution_count": 8,
      "metadata": {
        "colab": {
          "base_uri": "https://localhost:8080/"
        },
        "id": "teWmCof-HZEL",
        "outputId": "43106829-2071-475e-c0d4-e5fa511d5b81"
      },
      "outputs": [
        {
          "name": "stdout",
          "output_type": "stream",
          "text": [
            "[[0. 0. 0.]\n",
            " [0. 0. 0.]]\n",
            "[[1. 1. 1.]\n",
            " [1. 1. 1.]]\n",
            "[[7 7 7]\n",
            " [7 7 7]]\n",
            "[[1. 0. 0.]\n",
            " [0. 1. 0.]\n",
            " [0. 0. 1.]]\n",
            "[[0.38009172 0.43994599 0.95144271]\n",
            " [0.25629484 0.14179923 0.51205629]]\n"
          ]
        }
      ],
      "source": [
        "# Create an array with all zeros\n",
        "zeros = np.zeros((2, 3))\n",
        "print(zeros)\n",
        "\n",
        "# Create an array with all ones\n",
        "ones = np.ones((2, 3))\n",
        "print(ones)\n",
        "\n",
        "# Create an array filled with a specific value\n",
        "full = np.full((2, 3), 7)\n",
        "print(full)\n",
        "\n",
        "# Create an identity matrix\n",
        "eye = np.eye(3)\n",
        "print(eye)\n",
        "\n",
        "# Create an array with random values\n",
        "random_array = np.random.random((2, 3))\n",
        "print(random_array)\n"
      ]
    },
    {
      "cell_type": "markdown",
      "metadata": {
        "id": "SQSvnYhwFKDB"
      },
      "source": [
        "### Exercise"
      ]
    },
    {
      "cell_type": "markdown",
      "metadata": {
        "id": "rcwucxIxFNYD"
      },
      "source": [
        "1. Create a 3x3 array where all elements are 0."
      ]
    },
    {
      "cell_type": "code",
      "execution_count": 9,
      "metadata": {
        "id": "THDcXCegFWd0"
      },
      "outputs": [
        {
          "name": "stdout",
          "output_type": "stream",
          "text": [
            "[[0. 0. 0.]\n",
            " [0. 0. 0.]\n",
            " [0. 0. 0.]]\n"
          ]
        }
      ],
      "source": [
        "# write your code here\n",
        "print(np.zeros((3, 3)))"
      ]
    },
    {
      "cell_type": "markdown",
      "metadata": {
        "id": "JGWbTxAuFQNT"
      },
      "source": [
        "2. Create a 5x5 array where all elements are 1, then compute the sum of all its elements."
      ]
    },
    {
      "cell_type": "code",
      "execution_count": 10,
      "metadata": {
        "id": "OusuqmccFadk"
      },
      "outputs": [
        {
          "name": "stdout",
          "output_type": "stream",
          "text": [
            "[[1. 1. 1. 1. 1.]\n",
            " [1. 1. 1. 1. 1.]\n",
            " [1. 1. 1. 1. 1.]\n",
            " [1. 1. 1. 1. 1.]\n",
            " [1. 1. 1. 1. 1.]]\n",
            "\n",
            "25\n"
          ]
        }
      ],
      "source": [
        "# write your code here\n",
        "print(np.ones((5, 5)))\n",
        "print()\n",
        "print(np.sum(np.full((5, 5), 1)))"
      ]
    },
    {
      "cell_type": "markdown",
      "metadata": {
        "id": "zhj0WMpFFS-p"
      },
      "source": [
        "3. Create a 4x4 array where all elements are 7."
      ]
    },
    {
      "cell_type": "code",
      "execution_count": 11,
      "metadata": {
        "id": "DlqpVejBFbFr"
      },
      "outputs": [
        {
          "name": "stdout",
          "output_type": "stream",
          "text": [
            "[[7 7 7 7]\n",
            " [7 7 7 7]\n",
            " [7 7 7 7]\n",
            " [7 7 7 7]]\n"
          ]
        }
      ],
      "source": [
        "# write your code here\n",
        "print(np.full((4, 4), 7))"
      ]
    },
    {
      "cell_type": "markdown",
      "metadata": {
        "id": "6nciQFJcFUk_"
      },
      "source": [
        "4. Create a 6x6 identity matrix (a square array with ones on the main diagonal and zeros elsewhere)."
      ]
    },
    {
      "cell_type": "code",
      "execution_count": 12,
      "metadata": {
        "id": "MDj7XXyAFb3r"
      },
      "outputs": [
        {
          "name": "stdout",
          "output_type": "stream",
          "text": [
            "[[1. 0. 0. 0. 0. 0.]\n",
            " [0. 1. 0. 0. 0. 0.]\n",
            " [0. 0. 1. 0. 0. 0.]\n",
            " [0. 0. 0. 1. 0. 0.]\n",
            " [0. 0. 0. 0. 1. 0.]\n",
            " [0. 0. 0. 0. 0. 1.]]\n"
          ]
        }
      ],
      "source": [
        "# write your code here\n",
        "print(np.eye(6))"
      ]
    },
    {
      "cell_type": "markdown",
      "metadata": {
        "id": "mUErOcNLHgXF"
      },
      "source": [
        "## d. Indexing and Slicing"
      ]
    },
    {
      "cell_type": "markdown",
      "metadata": {
        "id": "ulYyTmypHwji"
      },
      "source": [
        "NumPy offers more versatile indexing options compared to standard Python lists."
      ]
    },
    {
      "cell_type": "code",
      "execution_count": 13,
      "metadata": {
        "colab": {
          "base_uri": "https://localhost:8080/"
        },
        "id": "-67kl57uHflW",
        "outputId": "08e934b6-3674-4c45-d1d9-07f8d9d7b600"
      },
      "outputs": [
        {
          "name": "stdout",
          "output_type": "stream",
          "text": [
            "6\n"
          ]
        }
      ],
      "source": [
        "arr = np.array([[1, 2, 3], [4, 5, 6], [7, 8, 9]])\n",
        "print(arr[1, 2])  # Fetches the element in the second row, third column"
      ]
    },
    {
      "cell_type": "markdown",
      "metadata": {
        "id": "6-RHmwYRMjk7"
      },
      "source": [
        "Conditions can be employed to selectively retrieve array elements."
      ]
    },
    {
      "cell_type": "code",
      "execution_count": 14,
      "metadata": {
        "colab": {
          "base_uri": "https://localhost:8080/"
        },
        "id": "cZsoEdH9Mkm3",
        "outputId": "a9a9fef8-608e-4b3e-afe7-7f53b10f399e"
      },
      "outputs": [
        {
          "name": "stdout",
          "output_type": "stream",
          "text": [
            "[6 7 8 9]\n"
          ]
        }
      ],
      "source": [
        "print(arr[arr > 5])  # All values greater than 5"
      ]
    },
    {
      "cell_type": "markdown",
      "metadata": {
        "id": "m4WpITUnSCWC"
      },
      "source": [
        "When **np.where** used with a single condition, it returns a tuple of indices where the condition is true."
      ]
    },
    {
      "cell_type": "code",
      "execution_count": 15,
      "metadata": {
        "colab": {
          "base_uri": "https://localhost:8080/"
        },
        "id": "S_5SOPu8SIK8",
        "outputId": "90a59d96-5e30-4417-b41f-cebb68959789"
      },
      "outputs": [
        {
          "name": "stdout",
          "output_type": "stream",
          "text": [
            "(array([3, 4], dtype=int64),)\n"
          ]
        }
      ],
      "source": [
        "arr = np.array([1, 2, 3, 4, 5])\n",
        "\n",
        "indices = np.where(arr > 3)\n",
        "print(indices) # indices"
      ]
    },
    {
      "cell_type": "markdown",
      "metadata": {
        "id": "vmeN3ioISZan"
      },
      "source": [
        "When **np.where** is used with three inputs, it checks a condition.\n",
        "\n",
        "If the condition is true, it uses the value from the second input. If false, it uses the value from the third input."
      ]
    },
    {
      "cell_type": "code",
      "execution_count": 16,
      "metadata": {
        "colab": {
          "base_uri": "https://localhost:8080/"
        },
        "id": "FE7TkMAJSlh0",
        "outputId": "70ff3d25-83d4-4d79-a3dd-94a55636a3ef"
      },
      "outputs": [
        {
          "name": "stdout",
          "output_type": "stream",
          "text": [
            "[-10 -10 -10  10  10]\n"
          ]
        }
      ],
      "source": [
        "# Replace values > 3 with 10 and others with -10\n",
        "result = np.where(arr > 3, 10, -10)\n",
        "print(result)"
      ]
    },
    {
      "cell_type": "markdown",
      "metadata": {
        "id": "Hvqvku8zS580"
      },
      "source": [
        "**np.where** can also be used with multi-dimensional arrays."
      ]
    },
    {
      "cell_type": "code",
      "execution_count": 17,
      "metadata": {
        "colab": {
          "base_uri": "https://localhost:8080/"
        },
        "id": "JPJbluuKS7Q9",
        "outputId": "3a8a0521-e6d6-475d-b219-c1d4ea356c83"
      },
      "outputs": [
        {
          "name": "stdout",
          "output_type": "stream",
          "text": [
            "(array([1, 2, 2, 2], dtype=int64), array([2, 0, 1, 2], dtype=int64))\n"
          ]
        }
      ],
      "source": [
        "arr = np.array([[1, 2, 3], [4, 5, 6], [7, 8, 9]])\n",
        "indices = np.where(arr > 5)\n",
        "print(indices)\n",
        "# This indicates the row and column indices where the values > 5"
      ]
    },
    {
      "cell_type": "markdown",
      "metadata": {
        "id": "h12DhDbPHygA"
      },
      "source": [
        "Slicing allows you to obtain subarrays."
      ]
    },
    {
      "cell_type": "code",
      "execution_count": 18,
      "metadata": {
        "colab": {
          "base_uri": "https://localhost:8080/"
        },
        "id": "_GVP_mDGHtqX",
        "outputId": "32ff44b9-1d44-49b8-ccd1-a5b81e592bdc"
      },
      "outputs": [
        {
          "name": "stdout",
          "output_type": "stream",
          "text": [
            "[[2 3]\n",
            " [5 6]]\n"
          ]
        }
      ],
      "source": [
        "# Get the first two rows and the last two columns\n",
        "print(arr[:2, 1:])"
      ]
    },
    {
      "cell_type": "markdown",
      "metadata": {
        "id": "tCf2GEzdDpIk"
      },
      "source": [
        "### Exercise"
      ]
    },
    {
      "cell_type": "markdown",
      "metadata": {
        "id": "sMEIiK_NDsGZ"
      },
      "source": [
        "1. Create a NumPy array of shape (10,10) filled with random integers between 0 and 100. Use the np.where function to replace all values greater than 50 with the value -1."
      ]
    },
    {
      "cell_type": "code",
      "execution_count": 19,
      "metadata": {
        "id": "ZzaPjGjiD0hu"
      },
      "outputs": [
        {
          "name": "stdout",
          "output_type": "stream",
          "text": [
            "[[-1 -1 -1 -1 44 30 50 33 -1 -1]\n",
            " [16 23 43 -1 -1 -1 -1 31 -1 -1]\n",
            " [-1 44 28 23 14 -1 -1 16 26 39]\n",
            " [-1  7 -1 -1 41 29 -1 18 20 23]\n",
            " [ 4 34 -1 27 -1 -1  6 34 -1 -1]\n",
            " [35 15 26 19 -1 -1  2 47 -1 -1]\n",
            " [35 -1 -1 -1 41 18 34 17 -1 15]\n",
            " [-1  9 24 -1 45 -1 -1 -1 -1 -1]\n",
            " [-1 49 -1 35 47 21 -1 11 31 24]\n",
            " [25 -1  8 29 12 12 -1 -1 -1 -1]]\n"
          ]
        }
      ],
      "source": [
        "# write your code here\n",
        "\n",
        "# randint: integer type random value\n",
        "# low : minimum of random value\n",
        "# high : maximum of random value\n",
        "# size : array size\n",
        "arr_Ex1 = np.random.randint(low=0, high=101, size=(10, 10))\n",
        "\n",
        "print(np.where(arr_Ex1>50, -1, arr_Ex1))"
      ]
    },
    {
      "cell_type": "markdown",
      "metadata": {
        "id": "xbtrK6WlD3kQ"
      },
      "source": [
        "2. Create a NumPy array of shape (6,6) filled with random integers between 1 and 10. Extract the values in the diagonal of the array (from the top-left to the bottom-right)."
      ]
    },
    {
      "cell_type": "code",
      "execution_count": 20,
      "metadata": {
        "id": "ii0nBgtLEFj2"
      },
      "outputs": [
        {
          "name": "stdout",
          "output_type": "stream",
          "text": [
            "[ 6 10  3  8  8  7]\n"
          ]
        }
      ],
      "source": [
        "# write your code here\n",
        "print(np.random.randint(1, 11, (6, 6)).diagonal())"
      ]
    },
    {
      "cell_type": "markdown",
      "metadata": {
        "id": "rsIDDWraEH2_"
      },
      "source": [
        "3. Create a NumPy array of shape (8,8) filled with the value 0. Without using loops, fill the even rows (0-indexed) with the value 1."
      ]
    },
    {
      "cell_type": "code",
      "execution_count": 21,
      "metadata": {
        "id": "xrbXO8eAELjM"
      },
      "outputs": [
        {
          "name": "stdout",
          "output_type": "stream",
          "text": [
            "[[1. 1. 1. 1. 1. 1. 1. 1.]\n",
            " [0. 0. 0. 0. 0. 0. 0. 0.]\n",
            " [1. 1. 1. 1. 1. 1. 1. 1.]\n",
            " [0. 0. 0. 0. 0. 0. 0. 0.]\n",
            " [1. 1. 1. 1. 1. 1. 1. 1.]\n",
            " [0. 0. 0. 0. 0. 0. 0. 0.]\n",
            " [1. 1. 1. 1. 1. 1. 1. 1.]\n",
            " [0. 0. 0. 0. 0. 0. 0. 0.]]\n"
          ]
        }
      ],
      "source": [
        "# write your code here\n",
        "arr_Ex3 = np.zeros((8, 8))\n",
        "\n",
        "arr_Ex3[::2, :] = 1\n",
        "\n",
        "print(arr_Ex3)"
      ]
    },
    {
      "cell_type": "markdown",
      "metadata": {
        "id": "uk3cVBaWH2tR"
      },
      "source": [
        "## e. Array Operations"
      ]
    },
    {
      "cell_type": "markdown",
      "metadata": {
        "id": "ZYxdmGzHJGxG"
      },
      "source": [
        "NumPy arrays support element-wise operations, which means operations are performed on corresponding elements of arrays."
      ]
    },
    {
      "cell_type": "code",
      "execution_count": 22,
      "metadata": {
        "colab": {
          "base_uri": "https://localhost:8080/"
        },
        "id": "8xezgJDgH8lz",
        "outputId": "344be0ba-b6a9-4c98-efee-9e6b6a05f40d"
      },
      "outputs": [
        {
          "name": "stdout",
          "output_type": "stream",
          "text": [
            "[[ 6  8]\n",
            " [10 12]]\n",
            "[[ 6  8]\n",
            " [10 12]]\n",
            "[[-4 -4]\n",
            " [-4 -4]]\n",
            "[[-4 -4]\n",
            " [-4 -4]]\n",
            "[[ 5 12]\n",
            " [21 32]]\n",
            "[[ 5 12]\n",
            " [21 32]]\n",
            "[[0.2        0.33333333]\n",
            " [0.42857143 0.5       ]]\n",
            "[[0.2        0.33333333]\n",
            " [0.42857143 0.5       ]]\n"
          ]
        }
      ],
      "source": [
        "x = np.array([[1,2], [3,4]])\n",
        "y = np.array([[5,6], [7,8]])\n",
        "\n",
        "#일반적으로 NumPy에서는 요소별(elemental-wise) 연산을 수행한다\n",
        "\n",
        "# Element-wise addition\n",
        "print(x + y)\n",
        "print(np.add(x, y))\n",
        "\n",
        "# Element-wise subtraction\n",
        "print(x - y)\n",
        "print(np.subtract(x, y))\n",
        "\n",
        "# Element-wise multiplication (NOT matrix multiplication)\n",
        "print(x * y)\n",
        "print(np.multiply(x, y))\n",
        "\n",
        "# Element-wise division\n",
        "print(x / y)\n",
        "print(np.divide(x, y))\n"
      ]
    },
    {
      "cell_type": "markdown",
      "metadata": {
        "id": "ZcQ4GRaEJWpf"
      },
      "source": [
        "For matrix multiplication, you'd use the **dot** function or the **@** operator:"
      ]
    },
    {
      "cell_type": "code",
      "execution_count": 23,
      "metadata": {
        "colab": {
          "base_uri": "https://localhost:8080/"
        },
        "id": "_FipYTOeJcnP",
        "outputId": "322b822c-d664-4d94-f95d-38c4bc87e25b"
      },
      "outputs": [
        {
          "name": "stdout",
          "output_type": "stream",
          "text": [
            "[[19 22]\n",
            " [43 50]]\n",
            "[[19 22]\n",
            " [43 50]]\n"
          ]
        }
      ],
      "source": [
        "print(x.dot(y))\n",
        "print(x @ y)"
      ]
    },
    {
      "cell_type": "markdown",
      "metadata": {
        "id": "y77S1XjBMUrT"
      },
      "source": [
        "The **reshape** function is used to give a new shape to an array without changing its data.\n",
        "\n",
        "Essentially, you're rearranging the elements of the array into a new configuration, given that the total number of elements remains the same."
      ]
    },
    {
      "cell_type": "code",
      "execution_count": 24,
      "metadata": {
        "colab": {
          "base_uri": "https://localhost:8080/"
        },
        "id": "HbLC5FOZOEh_",
        "outputId": "abab0366-6f37-4f81-debd-1d8549ace99d"
      },
      "outputs": [
        {
          "name": "stdout",
          "output_type": "stream",
          "text": [
            "(3, 3)\n",
            "[[1 2 3 4 5 6 7 8 9]]\n",
            "(1, 9)\n"
          ]
        }
      ],
      "source": [
        "arr = np.array([[1, 2, 3], [4, 5, 6], [7, 8, 9]])\n",
        "\n",
        "# Inspecting array's shape\n",
        "print(arr.shape)\n",
        "\n",
        "reshaped_array = np.reshape(arr, (1, 9))\n",
        "print(reshaped_array)\n",
        "\n",
        "# Inspecting array's shape\n",
        "print(reshaped_array.shape)"
      ]
    },
    {
      "cell_type": "markdown",
      "metadata": {
        "id": "L-1tr38SOPcK"
      },
      "source": [
        "The **transpose** function is used to reverse or permute the axes of an array.\n",
        "\n",
        "For a 2D matrix, this effectively swaps rows with columns."
      ]
    },
    {
      "cell_type": "code",
      "execution_count": 25,
      "metadata": {
        "colab": {
          "base_uri": "https://localhost:8080/"
        },
        "id": "u1x_6qCGO09w",
        "outputId": "1b41205b-b27f-4ece-d4c4-37ed01ee2ea5"
      },
      "outputs": [
        {
          "name": "stdout",
          "output_type": "stream",
          "text": [
            "(2, 3)\n",
            "[[1 4]\n",
            " [2 5]\n",
            " [3 6]]\n",
            "(3, 2)\n"
          ]
        }
      ],
      "source": [
        "arr = np.array([[1, 2, 3], [4, 5, 6]])\n",
        "\n",
        "# Inspecting array's shape\n",
        "print(arr.shape)\n",
        "\n",
        "transposed_array = np.transpose(arr)\n",
        "\n",
        "print(transposed_array)\n",
        "\n",
        "# Inspecting array's shape\n",
        "print(transposed_array.shape)\n"
      ]
    },
    {
      "cell_type": "markdown",
      "metadata": {
        "id": "pisd81wQMc2N"
      },
      "source": [
        "The **stack** function is used to join a sequence of arrays along a new axis.\n",
        "\n",
        "This means the shape of the resultant array changes, with a new dimension added based on the axis specified."
      ]
    },
    {
      "cell_type": "code",
      "execution_count": 26,
      "metadata": {
        "colab": {
          "base_uri": "https://localhost:8080/"
        },
        "id": "33m3iuQ3Mdtr",
        "outputId": "b7b31d49-c0c8-4b7d-f86c-f98a876ee392"
      },
      "outputs": [
        {
          "name": "stdout",
          "output_type": "stream",
          "text": [
            "[[1 2 3]\n",
            " [4 5 6]]\n",
            "[[1 4]\n",
            " [2 5]\n",
            " [3 6]]\n",
            "[[1 2 3]\n",
            " [4 5 6]]\n",
            "[1 2 3 4 5 6]\n"
          ]
        }
      ],
      "source": [
        "arr1 = np.array([1, 2, 3])\n",
        "arr2 = np.array([4, 5, 6])\n",
        "\n",
        "stacked_array = np.stack((arr1, arr2), axis=0)\n",
        "print(stacked_array)\n",
        "# Output:\n",
        "# [[1 2 3]\n",
        "#  [4 5 6]]\n",
        "\n",
        "stacked_array_axis1 = np.stack((arr1, arr2), axis=1)\n",
        "print(stacked_array_axis1)\n",
        "# Output:\n",
        "# [[1 4]\n",
        "#  [2 5]\n",
        "#  [3 6]]\n",
        "\n",
        "# Vertical stacking\n",
        "print(np.vstack((arr1, arr2)))\n",
        "# Output:\n",
        "# [[1 2 3]\n",
        "#  [4 5 6]]\n",
        "\n",
        "# Horizontal stacking\n",
        "print(np.hstack((arr1, arr2)))\n",
        "# Output:\n",
        "# [1 2 3 4 5 6]\n"
      ]
    },
    {
      "cell_type": "markdown",
      "metadata": {
        "id": "IJ20DNiSGg-v"
      },
      "source": [
        "### Exercise"
      ]
    },
    {
      "cell_type": "markdown",
      "metadata": {
        "id": "8K3l9r7cGlUm"
      },
      "source": [
        "1. Create a NumPy array of shape (8, 3) filled with consecutive integers starting from 1. Then, reshape this array to a shape of (4, 6)."
      ]
    },
    {
      "cell_type": "code",
      "execution_count": 27,
      "metadata": {
        "id": "w7mJev32GsDU"
      },
      "outputs": [
        {
          "name": "stdout",
          "output_type": "stream",
          "text": [
            "[[ 1  2  3  4  5  6]\n",
            " [ 7  8  9 10 11 12]\n",
            " [13 14 15 16 17 18]\n",
            " [19 20 21 22 23 24]]\n"
          ]
        }
      ],
      "source": [
        "# write your code here\n",
        "arr = np.arange(1, 25)\n",
        "\n",
        "arr_Ex1 = np.reshape(arr, (8, 3))\n",
        "\n",
        "print(np.reshape(arr_Ex1, (4, 6)))\n",
        "\n"
      ]
    },
    {
      "cell_type": "markdown",
      "metadata": {
        "id": "YcorYMYIGnci"
      },
      "source": [
        "2. Create a NumPy array of shape (5, 7) filled with random integers between 1 and 50. Then, transpose this array."
      ]
    },
    {
      "cell_type": "code",
      "execution_count": 28,
      "metadata": {
        "id": "jheQkyw_Gug3"
      },
      "outputs": [
        {
          "name": "stdout",
          "output_type": "stream",
          "text": [
            "[[ 8 37 23 19 31]\n",
            " [34 16  7  1 10]\n",
            " [23 12 34 22 38]\n",
            " [23  5 50 17 35]\n",
            " [24 11 12 44 14]\n",
            " [47 11 29 30 40]\n",
            " [49 43 29 49 17]]\n"
          ]
        }
      ],
      "source": [
        "# write your code here\n",
        "arr_Ex2 = np.random.randint(1, 51, (5, 7))\n",
        "\n",
        "print(np.transpose(arr_Ex2))"
      ]
    },
    {
      "cell_type": "markdown",
      "metadata": {
        "id": "ojkSz0u3GqNm"
      },
      "source": [
        "3. Create a NumPy array of shape (3, 2, 4) filled with consecutive integers starting from 1. First, transpose the array such that its new shape becomes (2, 3, 4). Then, reshape the transposed array to a 2D array of shape (6, 4)."
      ]
    },
    {
      "cell_type": "code",
      "execution_count": 29,
      "metadata": {
        "id": "Bh2iPdIIGu6o"
      },
      "outputs": [
        {
          "name": "stdout",
          "output_type": "stream",
          "text": [
            "[[ 1  9 17  5]\n",
            " [13 21  2 10]\n",
            " [18  6 14 22]\n",
            " [ 3 11 19  7]\n",
            " [15 23  4 12]\n",
            " [20  8 16 24]]\n"
          ]
        }
      ],
      "source": [
        "# write your code here\n",
        "arr = np.arange(1, 25)\n",
        "\n",
        "arr_Ex3 = np.reshape(arr, (3, 2, 4))\n",
        "\n",
        "new_arr_Ex3 = np.transpose(arr_Ex3)\n",
        "\n",
        "renew_arr_Ex3 = np.reshape(new_arr_Ex3, (6, 4))\n",
        "\n",
        "print(renew_arr_Ex3)\n",
        "\n"
      ]
    },
    {
      "cell_type": "markdown",
      "metadata": {
        "id": "VPWDJl0AJgIg"
      },
      "source": [
        "## f. Mathematical and Statistical Functions"
      ]
    },
    {
      "cell_type": "code",
      "execution_count": 30,
      "metadata": {
        "colab": {
          "base_uri": "https://localhost:8080/"
        },
        "id": "WjYINHSrJio7",
        "outputId": "632dc0f1-3056-4535-d6f6-93c70b19c1a8"
      },
      "outputs": [
        {
          "name": "stdout",
          "output_type": "stream",
          "text": [
            "15\n",
            "120\n",
            "3.0\n",
            "3.0\n",
            "1.4142135623730951\n",
            "5\n",
            "1\n"
          ]
        }
      ],
      "source": [
        "arr = np.array([1, 2, 3, 4, 5])\n",
        "\n",
        "# Sum of all elements\n",
        "print(np.sum(arr))\n",
        "\n",
        "# Product of all elements\n",
        "print(np.prod(arr))\n",
        "\n",
        "# Average, median, and standard deviation\n",
        "print(np.mean(arr))\n",
        "print(np.median(arr))\n",
        "print(np.std(arr))\n",
        "\n",
        "# Maximum and minimum values\n",
        "print(np.max(arr))\n",
        "print(np.min(arr))\n"
      ]
    },
    {
      "cell_type": "markdown",
      "metadata": {
        "id": "5s6n1pLlPZsf"
      },
      "source": [
        "The **argmax**/**argmin** function returns the indices of the maximum/minimum values along an axis."
      ]
    },
    {
      "cell_type": "code",
      "execution_count": 31,
      "metadata": {
        "colab": {
          "base_uri": "https://localhost:8080/"
        },
        "id": "4JuRwpxzPOf1",
        "outputId": "bdde63f9-aa8a-4d7f-d027-3d3f08de163b"
      },
      "outputs": [
        {
          "name": "stdout",
          "output_type": "stream",
          "text": [
            "8\n",
            "0\n"
          ]
        }
      ],
      "source": [
        "# 가장 큰 값/작은 값의 인덱스를 반환한다.\n",
        "\n",
        "arr = np.array([[1, 2, 3], [4, 5, 6], [7, 8, 9]])\n",
        "index = np.argmax(arr)\n",
        "print(index) # Output: 8 (since 9 is the largest value in the array and is at the 8th position)\n",
        "\n",
        "index = np.argmin(arr)\n",
        "print(index) # Output: 0 (since 1 is the smallest value in the array and is at the 0th position)"
      ]
    },
    {
      "cell_type": "markdown",
      "metadata": {
        "id": "75VoKujbQlj3"
      },
      "source": [
        "## g. **np.random** in NumPy"
      ]
    },
    {
      "cell_type": "markdown",
      "metadata": {
        "id": "6ZI_0k29QxyJ"
      },
      "source": [
        "**np.random.rand()** generates random values between 0 and 1 in a given shape."
      ]
    },
    {
      "cell_type": "code",
      "execution_count": 32,
      "metadata": {
        "colab": {
          "base_uri": "https://localhost:8080/"
        },
        "id": "sptcnoenQ4Gj",
        "outputId": "51d58d44-55e4-45aa-ac08-cff785a07519"
      },
      "outputs": [
        {
          "name": "stdout",
          "output_type": "stream",
          "text": [
            "[[0.17225232 0.8736856  0.04143355]\n",
            " [0.3018045  0.53761289 0.54189023]]\n"
          ]
        }
      ],
      "source": [
        "# Create a 2x3 matrix of random values between 0 and 1\n",
        "random_matrix = np.random.rand(2, 3)\n",
        "print(random_matrix)"
      ]
    },
    {
      "cell_type": "markdown",
      "metadata": {
        "id": "fa5kagTeQ8MF"
      },
      "source": [
        "**np.random.randn()** generates samples from the standard normal distribution (mean = 0, variance = 1).\n"
      ]
    },
    {
      "cell_type": "code",
      "execution_count": 33,
      "metadata": {
        "colab": {
          "base_uri": "https://localhost:8080/"
        },
        "id": "JUi1coWsRAoo",
        "outputId": "4a132042-9089-4b91-84bf-b3adcf8db4cf"
      },
      "outputs": [
        {
          "name": "stdout",
          "output_type": "stream",
          "text": [
            "[[ 0.11756198  0.68805959  0.86071896]\n",
            " [ 0.02157709  0.17755747 -0.08751097]]\n"
          ]
        }
      ],
      "source": [
        "# Create a 2x3 matrix of random values from a standard normal distribution\n",
        "random_normal_matrix = np.random.randn(2, 3)\n",
        "print(random_normal_matrix)\n"
      ]
    },
    {
      "cell_type": "markdown",
      "metadata": {
        "id": "ndZeBUHNRCX2"
      },
      "source": [
        "**np.random.randint()** returns random integers from a specified range."
      ]
    },
    {
      "cell_type": "code",
      "execution_count": 34,
      "metadata": {
        "colab": {
          "base_uri": "https://localhost:8080/"
        },
        "id": "Q50fIH3rRFC8",
        "outputId": "a6a4087a-51b6-43fa-ca54-770083fa8c96"
      },
      "outputs": [
        {
          "name": "stdout",
          "output_type": "stream",
          "text": [
            "9\n",
            "[[4 5]\n",
            " [2 9]]\n"
          ]
        }
      ],
      "source": [
        "# Generate a random integer between 1 (inclusive) and 10 (exclusive)\n",
        "random_int = np.random.randint(1, 10)\n",
        "print(random_int)\n",
        "\n",
        "# Generate a 2x2 matrix of random integers between 1 and 10\n",
        "random_int_matrix = np.random.randint(1, 10, size=(2, 2))\n",
        "print(random_int_matrix)\n"
      ]
    },
    {
      "cell_type": "markdown",
      "metadata": {
        "id": "NgpUtIfqRIaC"
      },
      "source": [
        "**np.random.choice()** generates a random sample from a given 1-D array."
      ]
    },
    {
      "cell_type": "code",
      "execution_count": 35,
      "metadata": {
        "colab": {
          "base_uri": "https://localhost:8080/"
        },
        "id": "T6szYvQfRHw5",
        "outputId": "bec6f160-fa20-4823-aa54-0a39abea9ee6"
      },
      "outputs": [
        {
          "name": "stdout",
          "output_type": "stream",
          "text": [
            "4\n",
            "[5 5 1]\n"
          ]
        }
      ],
      "source": [
        "# Choose a random element from the array\n",
        "choices = np.array([1, 2, 3, 4, 5])\n",
        "random_choice = np.random.choice(choices)\n",
        "print(random_choice)\n",
        "\n",
        "# Choose 3 random elements from the array with replacement\n",
        "random_sample = np.random.choice(choices, 3, replace=True)\n",
        "print(random_sample)"
      ]
    },
    {
      "cell_type": "markdown",
      "metadata": {
        "id": "bkBLMCuORPWS"
      },
      "source": [
        "**np.random.seed()** Used to seed the random number generator. This is useful for reproducibility, as setting the seed ensures that the sequence of random numbers remains the same across runs."
      ]
    },
    {
      "cell_type": "code",
      "execution_count": 36,
      "metadata": {
        "colab": {
          "base_uri": "https://localhost:8080/"
        },
        "id": "8Plu9O3xRNEe",
        "outputId": "9dc1983b-4942-4e39-afb4-5b2c9ecefc0d"
      },
      "outputs": [
        {
          "name": "stdout",
          "output_type": "stream",
          "text": [
            "0.3745401188473625\n"
          ]
        }
      ],
      "source": [
        "np.random.seed(42)\n",
        "print(np.random.rand())  # This value will be the same every time this code is run with the seed set to 42"
      ]
    },
    {
      "cell_type": "markdown",
      "metadata": {
        "id": "aZ2UFNuMRXyH"
      },
      "source": [
        "NumPy also provides functions to draw samples from various probability distributions like **np.random.normal()**, **np.random.binomial()**, **np.random.poisson()**, and more."
      ]
    },
    {
      "cell_type": "code",
      "execution_count": 37,
      "metadata": {
        "colab": {
          "base_uri": "https://localhost:8080/"
        },
        "id": "bI7wUuU3RaEv",
        "outputId": "ee2039d5-fdb4-48fe-8d95-c00692375ff9"
      },
      "outputs": [
        {
          "name": "stdout",
          "output_type": "stream",
          "text": [
            "[-1.11188012  0.31890218  0.27904129  1.01051528 -0.58087813]\n"
          ]
        }
      ],
      "source": [
        "# Draw 5 samples from a normal distribution with mean 0 and standard deviation 1\n",
        "samples = np.random.normal(loc=0, scale=1, size=5)\n",
        "print(samples)"
      ]
    },
    {
      "cell_type": "markdown",
      "metadata": {
        "id": "NH7b2oHngkS8"
      },
      "source": [
        "# 2. **Broadcasting** in NumPy"
      ]
    },
    {
      "cell_type": "markdown",
      "metadata": {
        "id": "ck9vS4DVoEy_"
      },
      "source": [
        "![image.png](data:image/png;base64,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)"
      ]
    },
    {
      "cell_type": "markdown",
      "metadata": {
        "id": "h68P-5EYgrF2"
      },
      "source": [
        "Broadcasting allows NumPy to **work with arrays of different shapes** when performing arithmetic operations.\n",
        "\n",
        "Instead of trying to match the shapes of two arrays element-by-element, broadcasting automates the process by \"stretching\" one array (virtually, not in memory) so that the shapes match."
      ]
    },
    {
      "cell_type": "markdown",
      "metadata": {
        "id": "usF_tH1fgwdE"
      },
      "source": [
        "## a. Why is Broadcasting in NumPy Necessary?"
      ]
    },
    {
      "cell_type": "markdown",
      "metadata": {
        "id": "IooRLG5Bg4Ie"
      },
      "source": [
        "### I. Handling **Different Shapes**"
      ]
    },
    {
      "cell_type": "markdown",
      "metadata": {
        "id": "EgBCrGz9g8DR"
      },
      "source": [
        "* In real-world scenarios, data doesn't always come in uniform shapes or sizes. You might need to perform operations between arrays of different dimensions. **Broadcasting allows for these different-sized arrays to be mathematically combined in a meaningful way.**"
      ]
    },
    {
      "cell_type": "code",
      "execution_count": 38,
      "metadata": {
        "id": "hYoKm3N8g38w"
      },
      "outputs": [],
      "source": [
        "import numpy as np\n",
        "\n",
        "# Adding a scalar to each row of a matrix\n",
        "matrix = np.array([[1, 2, 3], [4, 5, 6], [7, 8, 9]])\n",
        "scalar = 1\n",
        "result = matrix + scalar\n",
        "#output\n",
        "#[[2  3  4]\n",
        "# [5  6  7]\n",
        "# [8  9 10]]"
      ]
    },
    {
      "cell_type": "markdown",
      "metadata": {
        "id": "l7aCZRmVkMgJ"
      },
      "source": [
        "**Without broadcasting**, combining such arrays would require **manual** and **cumbersome** reshaping or looping."
      ]
    },
    {
      "cell_type": "markdown",
      "metadata": {
        "id": "IX7cKR5ohLXN"
      },
      "source": [
        "### II. **Memory Efficiency**"
      ]
    },
    {
      "cell_type": "markdown",
      "metadata": {
        "id": "WsPGePlshNPP"
      },
      "source": [
        "* Broadcasting avoids explicit replication of data. Imagine needing to add a scalar to a very large matrix. Without broadcasting, **you'd need to create another large matrix of the scalar repeated many times**, **consuming unnecessary memory**.\n",
        "\n",
        "* Instead, broadcasting virtually stretches the scalar to match the shape of the matrix, **without actually occupying the extra memory**."
      ]
    },
    {
      "cell_type": "markdown",
      "metadata": {
        "id": "ClPmlQa5hYWc"
      },
      "source": [
        "### III. **Performance Enhancement**"
      ]
    },
    {
      "cell_type": "markdown",
      "metadata": {
        "id": "h-7KehiEhcHm"
      },
      "source": [
        "* NumPy, at its core, is optimized for array computations. **Looping through arrays in Python can be slow** due to its interpreted nature. Broadcasting leverages the optimized C-implementations under the hood of NumPy, **making operations faster and more efficient** than equivalent Python loops."
      ]
    },
    {
      "cell_type": "markdown",
      "metadata": {
        "id": "RzSXJng3hm9F"
      },
      "source": [
        "### IV. **Code Elegance** and **Readability**"
      ]
    },
    {
      "cell_type": "markdown",
      "metadata": {
        "id": "wsT3vppNhTru"
      },
      "source": [
        "* Broadcasting can **reduce the need for loops**, leading to more concise code. This makes the codebase **cleaner**, **more maintainable**, and **more readable**."
      ]
    },
    {
      "cell_type": "code",
      "execution_count": 49,
      "metadata": {
        "id": "kNt7F5OKh82o"
      },
      "outputs": [],
      "source": [
        "# Without broadcasting\n",
        "for i in range(len(matrix)):\n",
        "    matrix[i] += scalar\n",
        "\n",
        "# With broadcasting\n",
        "matrix += scalar  # Much more concise"
      ]
    },
    {
      "cell_type": "markdown",
      "metadata": {
        "id": "s6s6FR2Gk01n"
      },
      "source": [
        "### V. **Versatility** in Mathematical Operations (수학적 계산에서 활용도가 높다)"
      ]
    },
    {
      "cell_type": "markdown",
      "metadata": {
        "id": "3mIZCN9dk5IW"
      },
      "source": [
        "* Broadcasting extends the types of operations you can perform. For instance, if you want to normalize data by subtracting the mean and dividing by the standard deviation, broadcasting lets you handle these operations seamlessly even if the mean and standard deviation are arrays themselves."
      ]
    },
    {
      "cell_type": "code",
      "execution_count": 40,
      "metadata": {
        "id": "wb-zNgcck7DA"
      },
      "outputs": [],
      "source": [
        "data = np.random.random((3, 3))\n",
        "mean = np.mean(data, axis=0)\n",
        "std_dev = np.std(data, axis=0)\n",
        "normalized_data = (data - mean) / std_dev"
      ]
    },
    {
      "cell_type": "markdown",
      "metadata": {
        "id": "As4iOXHciE22"
      },
      "source": [
        "## b. Rules of Broadcasting"
      ]
    },
    {
      "cell_type": "markdown",
      "metadata": {
        "id": "iwSSJZpboMUK"
      },
      "source": [
        "![image.png](data:image/png;base64,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)"
      ]
    },
    {
      "cell_type": "markdown",
      "metadata": {
        "id": "2hsYGKAIoXal"
      },
      "source": [
        "![image.png](data:image/png;base64,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)"
      ]
    },
    {
      "cell_type": "markdown",
      "metadata": {
        "id": "Yzet_DMEiH1v"
      },
      "source": [
        "Broadcasting follows a strict set of rules:\n",
        "\n",
        "1. If the arrays have a **different number of dimensions**, the shape of the **smaller-dimensioned array is padded** with ones on its left side until both shapes match.\n",
        "\n",
        "2. The sizes of the arrays in a dimension are compatible when:\n",
        "  * **they are equal**, or\n",
        "  * **one of them is 1**.\n",
        "\n",
        "If these conditions are not met, a **ValueError** is raised, indicating that the arrays have incompatible shapes.\n"
      ]
    },
    {
      "cell_type": "markdown",
      "metadata": {
        "id": "NVRgUxcfoQiv"
      },
      "source": [
        "![image.png](data:image/png;base64,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)"
      ]
    },
    {
      "cell_type": "markdown",
      "metadata": {
        "id": "4FsvtOclinfg"
      },
      "source": [
        "## c. Broadcasting in Practice\n"
      ]
    },
    {
      "cell_type": "markdown",
      "metadata": {
        "id": "Z97S5jN-iuN-"
      },
      "source": [
        "**Example 1**: Same Number of Dimensions"
      ]
    },
    {
      "cell_type": "code",
      "execution_count": 41,
      "metadata": {
        "colab": {
          "base_uri": "https://localhost:8080/"
        },
        "id": "9NzwnYMoirI1",
        "outputId": "ea6a3314-343c-49fa-a3ca-1331886bb2ad"
      },
      "outputs": [
        {
          "name": "stdout",
          "output_type": "stream",
          "text": [
            "2 2\n",
            "[[ 2  2  4]\n",
            " [ 5  5  7]\n",
            " [ 8  8 10]]\n"
          ]
        }
      ],
      "source": [
        "a = np.array([[1, 2, 3], [4, 5, 6], [7, 8, 9]])\n",
        "b = np.array([[1, 0, 1]])\n",
        "print(a.ndim, b.ndim)\n",
        "\n",
        "result = a + b\n",
        "print(result)"
      ]
    },
    {
      "cell_type": "markdown",
      "metadata": {
        "id": "2GDP69RCiz_O"
      },
      "source": [
        "Here, **b** is broadcasted across each row of **a**."
      ]
    },
    {
      "cell_type": "markdown",
      "metadata": {
        "id": "JMfQ2JWEiv5x"
      },
      "source": [
        "**Example 2**: Different Number of Dimensions"
      ]
    },
    {
      "cell_type": "code",
      "execution_count": 42,
      "metadata": {
        "colab": {
          "base_uri": "https://localhost:8080/"
        },
        "id": "Trj0zQq7i6b_",
        "outputId": "84046a70-53c0-42db-f572-602c6010ec62"
      },
      "outputs": [
        {
          "name": "stdout",
          "output_type": "stream",
          "text": [
            "2 1\n",
            "[[2 4]\n",
            " [4 6]\n",
            " [6 8]]\n"
          ]
        }
      ],
      "source": [
        "a = np.array([[1, 2], [3, 4], [5, 6]])\n",
        "b = np.array([1, 2])\n",
        "print(a.ndim, b.ndim)\n",
        "\n",
        "result = a + b\n",
        "print(result)"
      ]
    },
    {
      "cell_type": "markdown",
      "metadata": {
        "id": "GR8D1sSli8oH"
      },
      "source": [
        "Even though **a** is 2D and **b** is 1D, **b** is still broadcasted across each row of **a**."
      ]
    },
    {
      "cell_type": "markdown",
      "metadata": {
        "id": "SYiDpgeIjB7b"
      },
      "source": [
        "**Example 3**: Incompatible Shapes"
      ]
    },
    {
      "cell_type": "code",
      "execution_count": 43,
      "metadata": {
        "colab": {
          "base_uri": "https://localhost:8080/"
        },
        "id": "4gcJzKfejEKp",
        "outputId": "e645a57a-2e54-4c48-e5fe-72895ac584cc"
      },
      "outputs": [
        {
          "name": "stdout",
          "output_type": "stream",
          "text": [
            "operands could not be broadcast together with shapes (3,) (2,) \n"
          ]
        }
      ],
      "source": [
        "a = np.array([1, 2, 3])\n",
        "b = np.array([1, 2])\n",
        "\n",
        "try:\n",
        "    result = a + b\n",
        "except ValueError as e:\n",
        "    print(e)"
      ]
    },
    {
      "cell_type": "markdown",
      "metadata": {
        "id": "JrHj2uYhjHx4"
      },
      "source": [
        "The shapes here are incompatible because the lengths of the arrays are different and neither is 1."
      ]
    },
    {
      "cell_type": "markdown",
      "metadata": {
        "id": "icyflJ_0IbvP"
      },
      "source": [
        "### Exercise"
      ]
    },
    {
      "cell_type": "markdown",
      "metadata": {
        "id": "gLffA80QIdim"
      },
      "source": [
        "1. Add a 1-dimensional array [10, 20] to a 2x2 array filled with values 1 to 4."
      ]
    },
    {
      "cell_type": "code",
      "execution_count": 44,
      "metadata": {
        "id": "B9eWZ170KLJ1"
      },
      "outputs": [
        {
          "name": "stdout",
          "output_type": "stream",
          "text": [
            "[[12 22]\n",
            " [13 22]]\n"
          ]
        }
      ],
      "source": [
        "# write your code here\n",
        "a = np.array([10, 20])\n",
        "b = np.random.randint(1, 5, (2, 2))\n",
        "\n",
        "arr = a + b\n",
        "\n",
        "print(arr)"
      ]
    },
    {
      "cell_type": "markdown",
      "metadata": {
        "id": "UO7Dn36BJa-P"
      },
      "source": [
        "2. Multiply a 3x1 array with values 1, 2, and 3 by a 1-dimensional array [0, 1, 2]."
      ]
    },
    {
      "cell_type": "code",
      "execution_count": 45,
      "metadata": {
        "id": "bWOUBclIKNp-"
      },
      "outputs": [
        {
          "name": "stdout",
          "output_type": "stream",
          "text": [
            "[[0 1 2]\n",
            " [0 2 4]\n",
            " [0 1 2]]\n"
          ]
        }
      ],
      "source": [
        "# write your code here\n",
        "a = np.random.randint(1, 3, (3, 1))\n",
        "b = np.array([0, 1, 2])\n",
        "\n",
        "arr = a * b\n",
        "\n",
        "print(arr)"
      ]
    },
    {
      "cell_type": "markdown",
      "metadata": {
        "id": "X9fQb6sFJlRo"
      },
      "source": [
        "3. Add a 2D array [[1, 2, 3], [4, 5, 6], [7, 8, 9]] to a 3D array of shape (3,3,3) filled with random integers between 1 and 10."
      ]
    },
    {
      "cell_type": "code",
      "execution_count": 46,
      "metadata": {
        "id": "RaYzYqeBKOaJ"
      },
      "outputs": [
        {
          "name": "stdout",
          "output_type": "stream",
          "text": [
            "[[[ 5 11  6]\n",
            "  [ 9  8 13]\n",
            "  [12 17 16]]\n",
            "\n",
            " [[ 3  6 12]\n",
            "  [ 6 15 15]\n",
            "  [17 13 11]]\n",
            "\n",
            " [[ 5  9 11]\n",
            "  [ 7  6 10]\n",
            "  [ 9 16 13]]]\n"
          ]
        }
      ],
      "source": [
        "# write your code here\n",
        "a = np.array([[1, 2, 3], [4, 5, 6], [7, 8, 9]])\n",
        "b = np.random.randint(1, 11, (3, 3, 3))\n",
        "\n",
        "arr = a + b\n",
        "\n",
        "print(arr)"
      ]
    },
    {
      "cell_type": "markdown",
      "metadata": {
        "id": "93bl_bGuLhBK"
      },
      "source": [
        "# Websites that can help with studying"
      ]
    },
    {
      "cell_type": "markdown",
      "metadata": {
        "id": "Jum7Vn4hL7AO"
      },
      "source": [
        "1. NumPy user guide(official)\n",
        "  * https://numpy.org/devdocs/user/absolute_beginners.html\n",
        "2. 넘파이 첫걸음(DACON)\n",
        "  * https://dacon.io/edu/1013\n",
        "3. Learn NumPy : NumPy 50 exercises and solution(Kaggle)\n",
        "  * https://www.kaggle.com/code/themlphdstudent/learn-numpy-numpy-50-exercises-and-solution"
      ]
    }
  ],
  "metadata": {
    "colab": {
      "provenance": []
    },
    "kernelspec": {
      "display_name": "Python 3",
      "name": "python3"
    },
    "language_info": {
      "codemirror_mode": {
        "name": "ipython",
        "version": 3
      },
      "file_extension": ".py",
      "mimetype": "text/x-python",
      "name": "python",
      "nbconvert_exporter": "python",
      "pygments_lexer": "ipython3",
      "version": "3.10.11"
    }
  },
  "nbformat": 4,
  "nbformat_minor": 0
}
