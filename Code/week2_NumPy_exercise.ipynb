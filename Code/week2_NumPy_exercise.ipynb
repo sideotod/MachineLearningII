{
 "cells": [
  {
   "cell_type": "code",
   "execution_count": 1,
   "metadata": {},
   "outputs": [],
   "source": [
    "import numpy as np"
   ]
  },
  {
   "cell_type": "markdown",
   "metadata": {},
   "source": [
    "1. You have a 2D array A with shape (3, 3). Slice this array to get all columns except the last one, but reverse the order of the rows."
   ]
  },
  {
   "cell_type": "code",
   "execution_count": 2,
   "metadata": {},
   "outputs": [
    {
     "name": "stdout",
     "output_type": "stream",
     "text": [
      "[[7 8]\n",
      " [4 5]\n",
      " [1 2]]\n"
     ]
    }
   ],
   "source": [
    "# code\n",
    "arr = np.arange(1, 10)\n",
    "\n",
    "arr = np.reshape(arr, (3, 3))\n",
    "\n",
    "arr = arr[-1::-1, :2]\n",
    "\n",
    "print(arr)"
   ]
  },
  {
   "cell_type": "markdown",
   "metadata": {},
   "source": [
    "2. You have a 1D array A. Extract the elements that are multiples of 3 and also less than 7."
   ]
  },
  {
   "cell_type": "code",
   "execution_count": 3,
   "metadata": {},
   "outputs": [
    {
     "name": "stdout",
     "output_type": "stream",
     "text": [
      "[[7 1 5 3 5 2 6 7 7 3]]\n",
      "[3 6 3]\n"
     ]
    }
   ],
   "source": [
    "# code\n",
    "A = np.random.randint(1, 11, (1, 10))\n",
    "\n",
    "print(A)\n",
    "\n",
    "A = A[np.where((A%3==0) & (A<7))]\n",
    "\n",
    "print(A)"
   ]
  },
  {
   "cell_type": "markdown",
   "metadata": {},
   "source": [
    "3. You have a 3D array A with shape (4, 3, 2). Swap the first and third axes and then reshape it into a 2D array."
   ]
  },
  {
   "cell_type": "code",
   "execution_count": 4,
   "metadata": {},
   "outputs": [
    {
     "name": "stdout",
     "output_type": "stream",
     "text": [
      "[[[ 1  7 13 19]\n",
      "  [ 3  9 15 21]\n",
      "  [ 5 11 17 23]]\n",
      "\n",
      " [[ 2  8 14 20]\n",
      "  [ 4 10 16 22]\n",
      "  [ 6 12 18 24]]]\n",
      "\n"
     ]
    },
    {
     "data": {
      "text/plain": [
       "(2, 3, 4)"
      ]
     },
     "execution_count": 4,
     "metadata": {},
     "output_type": "execute_result"
    }
   ],
   "source": [
    "# code\n",
    "A = np.arange(1, 25)\n",
    "\n",
    "A = np.reshape(A, (4, 3, 2))\n",
    "\n",
    "A = np.transpose(A)\n",
    "\n",
    "print(A)\n",
    "\n",
    "print()\n",
    "\n",
    "A.shape"
   ]
  },
  {
   "cell_type": "markdown",
   "metadata": {},
   "source": [
    "4. You have a 1D array A. Count the number of positive and negative elements in it."
   ]
  },
  {
   "cell_type": "code",
   "execution_count": 5,
   "metadata": {},
   "outputs": [
    {
     "name": "stdout",
     "output_type": "stream",
     "text": [
      "Positive: 12\n",
      "Negative: 4\n"
     ]
    }
   ],
   "source": [
    "# code\n",
    "A = np.random.randint(-10, 10, (1, 20))\n",
    "\n",
    "pos = np.where(A>0, 1, 0).sum()\n",
    "\n",
    "neg = np.where(A<0, 1, 0).sum()\n",
    "\n",
    "print(\"Positive: %d\\nNegative: %d\"%(pos, neg))"
   ]
  },
  {
   "cell_type": "markdown",
   "metadata": {},
   "source": [
    "5. You have a 3D array A with shape (5, 4, 7). Your task is to extract a 2D slice from this array that includes:\n",
    "\n",
    "* All elements from the last 2 planes in the third dimension,\n",
    "* Every alternate row starting from the first row,\n",
    "* Every alternate column starting from the second column."
   ]
  },
  {
   "cell_type": "code",
   "execution_count": 8,
   "metadata": {},
   "outputs": [
    {
     "name": "stdout",
     "output_type": "stream",
     "text": [
      "[[[  1   2   3   4   5   6   7]\n",
      "  [  8   9  10  11  12  13  14]\n",
      "  [ 15  16  17  18  19  20  21]\n",
      "  [ 22  23  24  25  26  27  28]]\n",
      "\n",
      " [[ 29  30  31  32  33  34  35]\n",
      "  [ 36  37  38  39  40  41  42]\n",
      "  [ 43  44  45  46  47  48  49]\n",
      "  [ 50  51  52  53  54  55  56]]\n",
      "\n",
      " [[ 57  58  59  60  61  62  63]\n",
      "  [ 64  65  66  67  68  69  70]\n",
      "  [ 71  72  73  74  75  76  77]\n",
      "  [ 78  79  80  81  82  83  84]]\n",
      "\n",
      " [[ 85  86  87  88  89  90  91]\n",
      "  [ 92  93  94  95  96  97  98]\n",
      "  [ 99 100 101 102 103 104 105]\n",
      "  [106 107 108 109 110 111 112]]\n",
      "\n",
      " [[113 114 115 116 117 118 119]\n",
      "  [120 121 122 123 124 125 126]\n",
      "  [127 128 129 130 131 132 133]\n",
      "  [134 135 136 137 138 139 140]]]\n",
      "\n",
      "[[[ 86  88  90]\n",
      "  [100 102 104]]\n",
      "\n",
      " [[114 116 118]\n",
      "  [128 130 132]]]\n"
     ]
    }
   ],
   "source": [
    "# code\n",
    "A = np.arange(1, 141).reshape((5, 4, 7))\n",
    "\n",
    "print(A)\n",
    "\n",
    "print()\n",
    "\n",
    "result = A[-2:, 0::2, 1::2]\n",
    "\n",
    "print(result)"
   ]
  },
  {
   "cell_type": "code",
   "execution_count": null,
   "metadata": {},
   "outputs": [],
   "source": []
  }
 ],
 "metadata": {
  "kernelspec": {
   "display_name": "torch",
   "language": "python",
   "name": "python3"
  },
  "language_info": {
   "codemirror_mode": {
    "name": "ipython",
    "version": 3
   },
   "file_extension": ".py",
   "mimetype": "text/x-python",
   "name": "python",
   "nbconvert_exporter": "python",
   "pygments_lexer": "ipython3",
   "version": "3.10.11"
  },
  "orig_nbformat": 4
 },
 "nbformat": 4,
 "nbformat_minor": 2
}
