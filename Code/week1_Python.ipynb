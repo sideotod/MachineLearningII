{
  "cells": [
    {
      "cell_type": "markdown",
      "metadata": {
        "id": "TjEH4JG8WYQT"
      },
      "source": [
        "# What is Python?\n",
        "* High-level, interpreted programming language\n",
        "* Developed in 1991 by Guido van Rossum\n",
        "\n",
        "# Why Use Python for AI?\n",
        "* Rich Ecosystem of Libraries and Frameworks\n",
        "* Ease of Learning and Readability\n",
        "* Integration and Flexibility\n",
        "\n"
      ]
    },
    {
      "cell_type": "markdown",
      "metadata": {
        "id": "FmnAlhzD6TJY"
      },
      "source": [
        "# Variables"
      ]
    },
    {
      "cell_type": "markdown",
      "metadata": {
        "id": "h2tsRl-dWch0"
      },
      "source": [
        "## What is a Variable?"
      ]
    },
    {
      "cell_type": "markdown",
      "metadata": {
        "id": "WJ8cQWpQW_vY"
      },
      "source": [
        "* A variable is a named location in memory where a value can be stored and manipulated.\n",
        "* Variable names cannot start with a number or contain spaces. Additionally, they are case-sensitive.\n",
        "* If you assign a value to a variable with the same name, the new value will overwrite the previous one."
      ]
    },
    {
      "cell_type": "code",
      "execution_count": null,
      "metadata": {
        "id": "26EOQq2L1J-k"
      },
      "outputs": [],
      "source": [
        "# Case-sensitive\n",
        "number = 10\n",
        "Number = 20\n",
        "\n",
        "print(number)\n",
        "print(Number)"
      ]
    },
    {
      "cell_type": "code",
      "execution_count": null,
      "metadata": {
        "id": "cwlxcnj810eE"
      },
      "outputs": [],
      "source": [
        "# Error: Starts with number\n",
        "10_number = 10"
      ]
    },
    {
      "cell_type": "code",
      "execution_count": null,
      "metadata": {
        "id": "ydbANZZg2DRG"
      },
      "outputs": [],
      "source": [
        "# Error: space in the name\n",
        "number ten = 10"
      ]
    },
    {
      "cell_type": "code",
      "execution_count": null,
      "metadata": {
        "id": "82lbCITs2NRq"
      },
      "outputs": [],
      "source": [
        "# Overwriting\n",
        "number = 100\n",
        "print(number)\n",
        "\n",
        "number = 999\n",
        "print(number)"
      ]
    },
    {
      "cell_type": "markdown",
      "metadata": {
        "id": "DKvAMV7f2-TW"
      },
      "source": [
        "## Variable types"
      ]
    },
    {
      "cell_type": "markdown",
      "metadata": {
        "id": "DlZlRjt4XTby"
      },
      "source": [
        "### Integer: 'int'"
      ]
    },
    {
      "cell_type": "code",
      "execution_count": null,
      "metadata": {
        "id": "siKixS9dWVP4"
      },
      "outputs": [],
      "source": [
        "age = 20\n",
        "\n",
        "print('age:', age)\n",
        "print('type of age:', type(age))"
      ]
    },
    {
      "cell_type": "markdown",
      "metadata": {
        "id": "45rJJufmXj6I"
      },
      "source": [
        "### Floating-Point: 'float'"
      ]
    },
    {
      "cell_type": "code",
      "execution_count": 1,
      "metadata": {
        "id": "u34SCci3X3Mp"
      },
      "outputs": [
        {
          "name": "stdout",
          "output_type": "stream",
          "text": [
            "pi: 3.14159\n",
            "type of pi: <class 'float'>\n"
          ]
        }
      ],
      "source": [
        "pi = 3.14159\n",
        "\n",
        "print('pi:', pi)\n",
        "print('type of pi:', type(pi))"
      ]
    },
    {
      "cell_type": "markdown",
      "metadata": {
        "id": "WxrhDmpqYQsg"
      },
      "source": [
        "### String: str"
      ]
    },
    {
      "cell_type": "code",
      "execution_count": 2,
      "metadata": {
        "id": "UpIE4A5WYVim"
      },
      "outputs": [
        {
          "name": "stdout",
          "output_type": "stream",
          "text": [
            "name: Blair\n",
            "type of name: <class 'str'>\n"
          ]
        }
      ],
      "source": [
        "name = 'Blair'\n",
        "\n",
        "print('name:', name)\n",
        "print('type of name:', type(name))"
      ]
    },
    {
      "cell_type": "markdown",
      "metadata": {
        "id": "jLOHMFy73XnF"
      },
      "source": [
        "* To declare a string, enclose it in single quotes (' ') or double quotes (\" \")\n",
        "* A string can contain spaces."
      ]
    },
    {
      "cell_type": "code",
      "execution_count": 3,
      "metadata": {
        "id": "_MhdK64dYfSL"
      },
      "outputs": [
        {
          "name": "stdout",
          "output_type": "stream",
          "text": [
            "sentence: Blair is so cool.\n",
            "type of sentence: <class 'str'>\n"
          ]
        }
      ],
      "source": [
        "sentence = \"Blair is so cool.\"\n",
        "\n",
        "print('sentence:', sentence)\n",
        "print('type of sentence:', type(sentence))"
      ]
    },
    {
      "cell_type": "markdown",
      "metadata": {
        "id": "n8OgJB1V655i"
      },
      "source": [
        "* We can access the elements of a string with an 'index'. It starts with 0 and starts in reverse with -1.\n",
        "\n"
      ]
    },
    {
      "cell_type": "code",
      "execution_count": 4,
      "metadata": {
        "id": "rtInJ-BM68ZM"
      },
      "outputs": [
        {
          "name": "stdout",
          "output_type": "stream",
          "text": [
            "B\n",
            "l\n",
            " \n",
            ".\n",
            "l\n"
          ]
        }
      ],
      "source": [
        "sentence = \"Blair is so cool.\"\n",
        "\n",
        "print(sentence[0])\n",
        "print(sentence[1])\n",
        "print(sentence[5])\n",
        "print(sentence[-1])\n",
        "print(sentence[-2])"
      ]
    },
    {
      "cell_type": "markdown",
      "metadata": {
        "id": "ds2vjXcIY5xo"
      },
      "source": [
        "### List: 'list'"
      ]
    },
    {
      "cell_type": "code",
      "execution_count": 5,
      "metadata": {
        "id": "-efE9TBtY8Dd"
      },
      "outputs": [
        {
          "name": "stdout",
          "output_type": "stream",
          "text": [
            "numbers: [1, 2, 3, 4, 5]\n",
            "type of numbers: <class 'list'>\n"
          ]
        }
      ],
      "source": [
        "numbers = [1, 2, 3, 4, 5]\n",
        "\n",
        "print('numbers:', numbers)\n",
        "print('type of numbers:', type(numbers))"
      ]
    },
    {
      "cell_type": "markdown",
      "metadata": {
        "id": "XwDu2K8XeWll"
      },
      "source": [
        "* We can make a list with variables have various type"
      ]
    },
    {
      "cell_type": "code",
      "execution_count": 6,
      "metadata": {
        "id": "h5sTIdQhZQSb"
      },
      "outputs": [
        {
          "name": "stdout",
          "output_type": "stream",
          "text": [
            "numbers_and_alphabets: [1, 'a', 2, 'b']\n",
            "type of numbers_and_alphabets: <class 'list'>\n"
          ]
        }
      ],
      "source": [
        "numbers_and_alphabets = [1, 'a', 2, 'b']\n",
        "\n",
        "print('numbers_and_alphabets:', numbers_and_alphabets)\n",
        "print('type of numbers_and_alphabets:', type(numbers_and_alphabets))"
      ]
    },
    {
      "cell_type": "markdown",
      "metadata": {
        "id": "tvSyhOgXe0bV"
      },
      "source": [
        "* We can access the elements of a list with an 'index'. It starts with 0 and starts in reverse with -1.    \n",
        "\n",
        "* If the index goes beyond the range of the list, an index error will occur."
      ]
    },
    {
      "cell_type": "code",
      "execution_count": null,
      "metadata": {
        "id": "idlHhDlvdmTf"
      },
      "outputs": [],
      "source": [
        "numbers = [1, 2, 3, 4, 5]\n",
        "\n",
        "print(numbers[0]) # 1\n",
        "print(numbers[1]) # 2\n",
        "print(numbers[-1]) # 5\n",
        "print(numbers[-2]) # 4\n",
        "print(numbers[-5]) # 1"
      ]
    },
    {
      "cell_type": "code",
      "execution_count": null,
      "metadata": {
        "id": "yv06B4Q7dzpy"
      },
      "outputs": [],
      "source": [
        "# Index Error\n",
        "print(numbers[5])"
      ]
    },
    {
      "cell_type": "markdown",
      "metadata": {
        "id": "CiHf-4Dz4Ood"
      },
      "source": [
        "* A list can have lists as its elements."
      ]
    },
    {
      "cell_type": "code",
      "execution_count": 7,
      "metadata": {
        "id": "PtEuFqxx38py"
      },
      "outputs": [
        {
          "name": "stdout",
          "output_type": "stream",
          "text": [
            "1\n",
            "3\n",
            "4\n",
            "6\n"
          ]
        }
      ],
      "source": [
        "list_of_list = [[1, 2, 3], [4, 5, 6]]\n",
        "\n",
        "print(list_of_list[0][0]) # means, list_of_list's index 0 element of index 0 element. It is 1\n",
        "print(list_of_list[0][2]) # means, list_of_list's index 2 element of index 0 element. It is 3\n",
        "print(list_of_list[1][0]) # 4\n",
        "print(list_of_list[1][2]) # 6"
      ]
    },
    {
      "cell_type": "markdown",
      "metadata": {
        "id": "kqIi0UIrfq4F"
      },
      "source": [
        "* We can modify the values of list elements."
      ]
    },
    {
      "cell_type": "code",
      "execution_count": 8,
      "metadata": {
        "id": "yEvyPevbeLoD"
      },
      "outputs": [
        {
          "name": "stdout",
          "output_type": "stream",
          "text": [
            "[10, 2, 3, 4, 5]\n"
          ]
        }
      ],
      "source": [
        "numbers = [1, 2, 3, 4, 5]\n",
        "numbers[0] = 10\n",
        "\n",
        "print(numbers)"
      ]
    },
    {
      "cell_type": "markdown",
      "metadata": {
        "id": "sJX9ZNFuZnW0"
      },
      "source": [
        "### Tuple: 'tuple'"
      ]
    },
    {
      "cell_type": "code",
      "execution_count": 9,
      "metadata": {
        "id": "-zJilkl-Zret"
      },
      "outputs": [
        {
          "name": "stdout",
          "output_type": "stream",
          "text": [
            "coordinates: (4, 5)\n",
            "type of coordinates: <class 'tuple'>\n"
          ]
        }
      ],
      "source": [
        "coordinates = (4, 5)\n",
        "\n",
        "print('coordinates:', coordinates)\n",
        "print('type of coordinates:', type(coordinates))"
      ]
    },
    {
      "cell_type": "markdown",
      "metadata": {
        "id": "tig5c0AvzqhX"
      },
      "source": [
        "* We can access the elements of a tuple with an 'index'.\n",
        "* Just like with lists, the index goes beyond the range of the tuple, an index error will occur."
      ]
    },
    {
      "cell_type": "code",
      "execution_count": 12,
      "metadata": {
        "id": "LjueBy8zzsuw"
      },
      "outputs": [
        {
          "name": "stdout",
          "output_type": "stream",
          "text": [
            "4\n",
            "5\n",
            "5\n"
          ]
        }
      ],
      "source": [
        "print(coordinates[0])\n",
        "print(coordinates[1])\n",
        "print(coordinates[-1])"
      ]
    },
    {
      "cell_type": "code",
      "execution_count": 13,
      "metadata": {
        "id": "NfcWWtidz3J_"
      },
      "outputs": [
        {
          "ename": "IndexError",
          "evalue": "tuple index out of range",
          "output_type": "error",
          "traceback": [
            "\u001b[1;31m---------------------------------------------------------------------------\u001b[0m",
            "\u001b[1;31mIndexError\u001b[0m                                Traceback (most recent call last)",
            "\u001b[1;32mc:\\Users\\chmin\\OneDrive\\Desktop\\한양대학교\\한양대학교 활동\\2학년 2학기\\머신러닝2\\MachineLearning_II\\Code\\week1_Python.ipynb 셀 35\u001b[0m line \u001b[0;36m1\n\u001b[1;32m----> <a href='vscode-notebook-cell:/c%3A/Users/chmin/OneDrive/Desktop/%ED%95%9C%EC%96%91%EB%8C%80%ED%95%99%EA%B5%90/%ED%95%9C%EC%96%91%EB%8C%80%ED%95%99%EA%B5%90%20%ED%99%9C%EB%8F%99/2%ED%95%99%EB%85%84%202%ED%95%99%EA%B8%B0/%EB%A8%B8%EC%8B%A0%EB%9F%AC%EB%8B%9D2/MachineLearning_II/Code/week1_Python.ipynb#X46sZmlsZQ%3D%3D?line=0'>1</a>\u001b[0m \u001b[39mprint\u001b[39m(coordinates[\u001b[39m2\u001b[39;49m])\n",
            "\u001b[1;31mIndexError\u001b[0m: tuple index out of range"
          ]
        }
      ],
      "source": [
        "print(coordinates[2])"
      ]
    },
    {
      "cell_type": "markdown",
      "metadata": {
        "id": "aqZVao9F0M5w"
      },
      "source": [
        "In contrast to lists, we **cannot modify** the values of tuple elements."
      ]
    },
    {
      "cell_type": "code",
      "execution_count": 14,
      "metadata": {
        "id": "Ss8gLFM40JIQ"
      },
      "outputs": [
        {
          "ename": "TypeError",
          "evalue": "'tuple' object does not support item assignment",
          "output_type": "error",
          "traceback": [
            "\u001b[1;31m---------------------------------------------------------------------------\u001b[0m",
            "\u001b[1;31mTypeError\u001b[0m                                 Traceback (most recent call last)",
            "\u001b[1;32mc:\\Users\\chmin\\OneDrive\\Desktop\\한양대학교\\한양대학교 활동\\2학년 2학기\\머신러닝2\\MachineLearning_II\\Code\\week1_Python.ipynb 셀 37\u001b[0m line \u001b[0;36m1\n\u001b[1;32m----> <a href='vscode-notebook-cell:/c%3A/Users/chmin/OneDrive/Desktop/%ED%95%9C%EC%96%91%EB%8C%80%ED%95%99%EA%B5%90/%ED%95%9C%EC%96%91%EB%8C%80%ED%95%99%EA%B5%90%20%ED%99%9C%EB%8F%99/2%ED%95%99%EB%85%84%202%ED%95%99%EA%B8%B0/%EB%A8%B8%EC%8B%A0%EB%9F%AC%EB%8B%9D2/MachineLearning_II/Code/week1_Python.ipynb#X51sZmlsZQ%3D%3D?line=0'>1</a>\u001b[0m coordinates[\u001b[39m0\u001b[39;49m] \u001b[39m=\u001b[39m \u001b[39m10\u001b[39m\n",
            "\u001b[1;31mTypeError\u001b[0m: 'tuple' object does not support item assignment"
          ]
        }
      ],
      "source": [
        "coordinates[0] = 10"
      ]
    },
    {
      "cell_type": "markdown",
      "metadata": {
        "id": "9Csp1gifZlYl"
      },
      "source": [
        "### Dictionary: 'dict'"
      ]
    },
    {
      "cell_type": "markdown",
      "metadata": {
        "id": "rBJpJLYV0lxq"
      },
      "source": [
        "* A dictionary is a variable that holds key-value pairs. The values can be accessed using the keys. Like lists, dictionaries are mutable."
      ]
    },
    {
      "cell_type": "code",
      "execution_count": null,
      "metadata": {
        "id": "jTPwXIyeZg52"
      },
      "outputs": [],
      "source": [
        "person = {'name': 'Alice', 'age': 25}\n",
        "\n",
        "print('type of person:', type(person))\n",
        "print('name:', person['name'])\n",
        "print('age:', person['age'])"
      ]
    },
    {
      "cell_type": "code",
      "execution_count": null,
      "metadata": {
        "id": "zytWmU-g0531"
      },
      "outputs": [],
      "source": [
        "person['age'] = 52\n",
        "\n",
        "print('age:', person['age'])"
      ]
    },
    {
      "cell_type": "markdown",
      "metadata": {
        "id": "OzV9vTojC2xP"
      },
      "source": [
        "### Boolean: 'bool'"
      ]
    },
    {
      "cell_type": "markdown",
      "metadata": {
        "id": "s6QCf12TC7Cb"
      },
      "source": [
        "* Boolean has only two values: true or false.\""
      ]
    },
    {
      "cell_type": "code",
      "execution_count": null,
      "metadata": {
        "id": "SitXzuQeC2l9"
      },
      "outputs": [],
      "source": [
        "bool_true = True\n",
        "bool_false = False\n",
        "\n",
        "print(bool_true)\n",
        "print(bool_false)"
      ]
    },
    {
      "cell_type": "markdown",
      "metadata": {
        "id": "_Wyhncwk5UjF"
      },
      "source": [
        "## Slicing"
      ]
    },
    {
      "cell_type": "markdown",
      "metadata": {
        "id": "BLz3gdjh5WP_"
      },
      "source": [
        "* We can slice strings and lists into new one."
      ]
    },
    {
      "cell_type": "code",
      "execution_count": 15,
      "metadata": {
        "id": "PYvXptzY5dBU"
      },
      "outputs": [
        {
          "name": "stdout",
          "output_type": "stream",
          "text": [
            "Life\n"
          ]
        }
      ],
      "source": [
        "quote = \"Life is beautiful.\"\n",
        "\n",
        "life = quote[0:4] # [start index : end index + 1]\n",
        "print(life)"
      ]
    },
    {
      "cell_type": "code",
      "execution_count": 17,
      "metadata": {
        "id": "7i2efTtf53QY"
      },
      "outputs": [
        {
          "name": "stdout",
          "output_type": "stream",
          "text": [
            "[1, 2, 3]\n"
          ]
        }
      ],
      "source": [
        "numbers = [1, 2, 3, 4, 5]\n",
        "\n",
        "three_numbers = numbers[0:3]\n",
        "print(three_numbers)"
      ]
    },
    {
      "cell_type": "markdown",
      "metadata": {
        "id": "zVb5iGJPAGDj"
      },
      "source": [
        "# Operators"
      ]
    },
    {
      "cell_type": "markdown",
      "metadata": {
        "id": "sytdxnjtAJVX"
      },
      "source": [
        "## +, -, *, /"
      ]
    },
    {
      "cell_type": "code",
      "execution_count": null,
      "metadata": {
        "id": "kJroOcUmAITf"
      },
      "outputs": [],
      "source": [
        "4 + 4"
      ]
    },
    {
      "cell_type": "code",
      "execution_count": null,
      "metadata": {
        "id": "mifO5JWaAP4T"
      },
      "outputs": [],
      "source": [
        "4 - 3"
      ]
    },
    {
      "cell_type": "code",
      "execution_count": null,
      "metadata": {
        "id": "snrxGC2AAQ3t"
      },
      "outputs": [],
      "source": [
        "4 * 9"
      ]
    },
    {
      "cell_type": "code",
      "execution_count": null,
      "metadata": {
        "id": "_Mv8MDarAQyH"
      },
      "outputs": [],
      "source": [
        "# Note: Division will result in a float.\n",
        "10 / 2"
      ]
    },
    {
      "cell_type": "markdown",
      "metadata": {
        "id": "RqoYBDFtBUZJ"
      },
      "source": [
        "## **, %, //\n",
        "* exponentiation\n",
        "* remainder\n",
        "* integer division(floor division)"
      ]
    },
    {
      "cell_type": "code",
      "execution_count": null,
      "metadata": {
        "id": "SJl9oTWhBXSi"
      },
      "outputs": [],
      "source": [
        "2**10"
      ]
    },
    {
      "cell_type": "code",
      "execution_count": null,
      "metadata": {
        "id": "9KmliLOwBpAE"
      },
      "outputs": [],
      "source": [
        "10%3"
      ]
    },
    {
      "cell_type": "code",
      "execution_count": 18,
      "metadata": {
        "id": "g8nXIsAkBsQ4"
      },
      "outputs": [
        {
          "data": {
            "text/plain": [
              "3"
            ]
          },
          "execution_count": 18,
          "metadata": {},
          "output_type": "execute_result"
        }
      ],
      "source": [
        "10//3"
      ]
    },
    {
      "cell_type": "markdown",
      "metadata": {
        "id": "hvl-N9bnCiFW"
      },
      "source": [
        "# if-else"
      ]
    },
    {
      "cell_type": "markdown",
      "metadata": {
        "id": "jEf0BylaCqBW"
      },
      "source": [
        "* if-else statements are syntax for executing code when specific conditions are met."
      ]
    },
    {
      "cell_type": "code",
      "execution_count": null,
      "metadata": {
        "id": "NbUdr8ufDezV"
      },
      "outputs": [],
      "source": [
        "# if condition:\n",
        "#   code\n",
        "# else:\n",
        "#   code\n",
        "\n",
        "i = 10\n",
        "\n",
        "if i>5:\n",
        "  print('i is bigger than 5')\n",
        "else:\n",
        "  print('i is not bigger than 5')"
      ]
    },
    {
      "cell_type": "code",
      "execution_count": 19,
      "metadata": {
        "id": "httzYS_UD6tZ"
      },
      "outputs": [
        {
          "name": "stdout",
          "output_type": "stream",
          "text": [
            "A\n"
          ]
        }
      ],
      "source": [
        "# if condition:\n",
        "#   code\n",
        "# elif condition:\n",
        "#   code\n",
        "# elif condition:\n",
        "#   code\n",
        "# else:\n",
        "#   code\n",
        "\n",
        "score = 95\n",
        "\n",
        "if score < 70:\n",
        "  print(\"F\")\n",
        "elif score < 80:\n",
        "  print(\"C\")\n",
        "elif score < 90:\n",
        "  print(\"B\")\n",
        "else:\n",
        "  print(\"A\")"
      ]
    },
    {
      "cell_type": "markdown",
      "metadata": {
        "id": "wb8N-GJk7Nqx"
      },
      "source": [
        "# for & while loop"
      ]
    },
    {
      "cell_type": "markdown",
      "metadata": {
        "id": "Mz7aauq77OiS"
      },
      "source": [
        "* We can repeatedly execute a block of code based on specific conditions.\n",
        "* Two types of loop\n",
        "  1. **for**\n",
        "  2. **while**"
      ]
    },
    {
      "cell_type": "markdown",
      "metadata": {
        "id": "jq4CWs2O7464"
      },
      "source": [
        "* If you know how many times you want to loop, 'for' is appropriate. The 'for' loop works as follows."
      ]
    },
    {
      "cell_type": "code",
      "execution_count": null,
      "metadata": {
        "id": "aLnhpPRU7JQW"
      },
      "outputs": [],
      "source": [
        "# Print i 10 times\n",
        "# In the code below, 'i' increases by 1 each time the loop iterates.\n",
        "for i in range(10):\n",
        "  print(i)"
      ]
    },
    {
      "cell_type": "code",
      "execution_count": null,
      "metadata": {
        "id": "J6kdlEHa8fFw"
      },
      "outputs": [],
      "source": [
        "# Print elements in numbers one by one\n",
        "numbers = [10, -2, -3, 4]\n",
        "for i in numbers:\n",
        "  print(i)"
      ]
    },
    {
      "cell_type": "code",
      "execution_count": 20,
      "metadata": {
        "id": "riRKp3ohNZNs"
      },
      "outputs": [
        {
          "name": "stdout",
          "output_type": "stream",
          "text": [
            "s\n",
            "u\n",
            "m\n",
            "m\n",
            "e\n",
            "r\n"
          ]
        }
      ],
      "source": [
        "word = 'summer'\n",
        "for i in word:\n",
        "  print(i)"
      ]
    },
    {
      "cell_type": "code",
      "execution_count": 21,
      "metadata": {
        "id": "kh60SccZ8qE7"
      },
      "outputs": [
        {
          "name": "stdout",
          "output_type": "stream",
          "text": [
            "Good\n",
            "Good\n",
            "Good\n"
          ]
        }
      ],
      "source": [
        "# You can also omit the variable in a 'for' loop.\"\n",
        "for _ in (range(3)):\n",
        "  print('Good')"
      ]
    },
    {
      "cell_type": "markdown",
      "metadata": {
        "id": "1s9IXrbCAero"
      },
      "source": [
        "* If you know the condition under which to terminate, 'while' is appropriate. The 'while' loop works as follows."
      ]
    },
    {
      "cell_type": "code",
      "execution_count": 22,
      "metadata": {
        "id": "xbfeRQbPAeDU"
      },
      "outputs": [
        {
          "name": "stdout",
          "output_type": "stream",
          "text": [
            "0\n",
            "1\n",
            "2\n",
            "3\n",
            "4\n"
          ]
        }
      ],
      "source": [
        "i = 0\n",
        "while i < 5:\n",
        "  print(i)\n",
        "  i = i + 1"
      ]
    },
    {
      "cell_type": "markdown",
      "metadata": {
        "id": "RMErLz4q1jvC"
      },
      "source": [
        "* If you want to skip the rest of the code inside a loop and move on to the next iteration, you can use the **continue**."
      ]
    },
    {
      "cell_type": "code",
      "execution_count": 23,
      "metadata": {
        "id": "x_FYO0aB1iwb"
      },
      "outputs": [
        {
          "name": "stdout",
          "output_type": "stream",
          "text": [
            "0\n",
            "1\n",
            "2\n",
            "3\n",
            "4\n",
            "6\n",
            "7\n",
            "8\n",
            "9\n"
          ]
        }
      ],
      "source": [
        "for i in range(10):\n",
        "  if i == 5:\n",
        "    continue\n",
        "  print(i)"
      ]
    },
    {
      "cell_type": "markdown",
      "metadata": {
        "id": "KL8l78nM2J9x"
      },
      "source": [
        "* If you want to exit out of the loop entirely, skipping the rest of the code inside it, you can use the **break**."
      ]
    },
    {
      "cell_type": "code",
      "execution_count": 24,
      "metadata": {
        "id": "tgS_Ia4Q2IdY"
      },
      "outputs": [
        {
          "name": "stdout",
          "output_type": "stream",
          "text": [
            "0\n",
            "1\n",
            "2\n",
            "3\n",
            "4\n"
          ]
        }
      ],
      "source": [
        "for i in range(10):\n",
        "  if i == 5:\n",
        "    break\n",
        "  print(i)"
      ]
    },
    {
      "cell_type": "markdown",
      "metadata": {
        "id": "FVTzY72y5B34"
      },
      "source": [
        "### List Comprehension\n",
        "* List comprehension is a concise way to create lists in Python. It allows for generating new lists by applying an expression to each element in an existing list or other iterable objects."
      ]
    },
    {
      "cell_type": "code",
      "execution_count": 26,
      "metadata": {
        "id": "P4QPVgyd5LPg"
      },
      "outputs": [
        {
          "name": "stdout",
          "output_type": "stream",
          "text": [
            "[0, 1, 2, 3, 4, 5, 6, 7, 8, 9]\n",
            "[0, 2, 4, 6, 8, 10, 12, 14, 16, 18]\n"
          ]
        }
      ],
      "source": [
        "sample1 = [i for i in range(10)]\n",
        "print(sample1)\n",
        "\n",
        "sample2 = [i*2 for i in range(10)]\n",
        "print(sample2)"
      ]
    },
    {
      "cell_type": "markdown",
      "metadata": {
        "id": "fmH9pQwaw8Vs"
      },
      "source": [
        "# Quiz \\#1"
      ]
    },
    {
      "cell_type": "code",
      "execution_count": 1,
      "metadata": {
        "id": "73sZeELbxX_F"
      },
      "outputs": [
        {
          "name": "stdout",
          "output_type": "stream",
          "text": [
            "-6224\n"
          ]
        }
      ],
      "source": [
        "# Find the sum of all elements in the given list numbers\n",
        "numbers = [1, 2, 10, 20, -10029, 32, 324, 231, 2314, -2, 873]\n",
        "\n",
        "# code\n",
        "result = sum(numbers)\n",
        "\n",
        "print(result)"
      ]
    },
    {
      "cell_type": "code",
      "execution_count": 2,
      "metadata": {
        "id": "6LR-TS1VxynC"
      },
      "outputs": [
        {
          "name": "stdout",
          "output_type": "stream",
          "text": [
            "4\n"
          ]
        }
      ],
      "source": [
        "# Count how many times the number 4 appears in the given list numbers\n",
        "numbers = [7, 3, 8, 3, 9, 9, 6, 4, 3, 3, 3, 7, 3, 4, 1, 8, 5, 3, 4, 6, 0, 8, 5, 1, 5, 3, 3, 4, 3, 3]\n",
        "\n",
        "# code\n",
        "count = 0\n",
        "for n in numbers:\n",
        "    if n == 4:\n",
        "        count += 1\n",
        "\n",
        "result = count\n",
        "\n",
        "print(result)"
      ]
    },
    {
      "cell_type": "code",
      "execution_count": 7,
      "metadata": {
        "id": "mzpeIqhgyVux"
      },
      "outputs": [
        {
          "name": "stdout",
          "output_type": "stream",
          "text": [
            "-87 97\n"
          ]
        }
      ],
      "source": [
        "# Find the maximum and minimum values in the given list numbers\n",
        "# Don't have to consider about 'efficiency' in this quiz\n",
        "# -100 < number < 100\n",
        "numbers = [-18, -26, -79, 71, 50, 94, -87, 29, -23, 68, 64, -46, 68, 97, -73, -51, 23, 17, 59, 21, 70, -60, -46, -19, -82, 79, 31, -47, 10, -29]\n",
        "\n",
        "# code\n",
        "# sort() function just SORT own list, doesn't return values\n",
        "# if you use sort() function, list will be changed sorted form\n",
        "numbers.sort()\n",
        "min_value = numbers[0]\n",
        "max_value = numbers[-1]\n",
        "\n",
        "print(min_value, max_value)"
      ]
    },
    {
      "cell_type": "markdown",
      "metadata": {
        "id": "qClyH64r0AMf"
      },
      "source": [
        "### answer"
      ]
    },
    {
      "cell_type": "code",
      "execution_count": 29,
      "metadata": {
        "id": "GQPE-c-e0BZ7"
      },
      "outputs": [
        {
          "name": "stdout",
          "output_type": "stream",
          "text": [
            "-6224\n"
          ]
        }
      ],
      "source": [
        "# Find the sum of all elements in the given list numbers\n",
        "numbers = [1, 2, 10, 20, -10029, 32, 324, 231, 2314, -2, 873]\n",
        "\n",
        "# code\n",
        "result = 0\n",
        "for n in numbers:\n",
        "  result += n\n",
        "\n",
        "print(result)"
      ]
    },
    {
      "cell_type": "code",
      "execution_count": null,
      "metadata": {
        "id": "dyFVfuoD0vtG"
      },
      "outputs": [],
      "source": [
        "# Find the sum of all elements in the given list numbers\n",
        "numbers = [1, 2, 10, 20, -10029, 32, 324, 231, 2314, -2, 873]\n",
        "\n",
        "# code\n",
        "result = sum(numbers)\n",
        "\n",
        "print(result)"
      ]
    },
    {
      "cell_type": "code",
      "execution_count": null,
      "metadata": {
        "id": "yR6CgsxA0LdD"
      },
      "outputs": [],
      "source": [
        "# Count how many times the number 3 appears in the given list numbers\n",
        "numbers = [7, 3, 8, 3, 9, 9, 6, 4, 3, 3, 3, 7, 3, 4, 1, 8, 5, 3, 4, 6, 0, 8, 5, 1, 5, 3, 3, 4, 3, 3]\n",
        "\n",
        "# code\n",
        "result = 0\n",
        "for n in numbers:\n",
        "  if n == 3:\n",
        "    result += 1\n",
        "\n",
        "print(result)"
      ]
    },
    {
      "cell_type": "code",
      "execution_count": null,
      "metadata": {
        "id": "_Q5H86WW08kD"
      },
      "outputs": [],
      "source": [
        "# Count how many times the number 4 appears in the given list numbers\n",
        "numbers = [7, 3, 8, 3, 9, 9, 6, 4, 3, 3, 3, 7, 3, 4, 1, 8, 5, 3, 4, 6, 0, 8, 5, 1, 5, 3, 3, 4, 3, 3]\n",
        "\n",
        "# code\n",
        "result = numbers.count(4)\n",
        "\n",
        "print(result)"
      ]
    },
    {
      "cell_type": "code",
      "execution_count": 30,
      "metadata": {
        "id": "Edm45H0c0eXf"
      },
      "outputs": [
        {
          "name": "stdout",
          "output_type": "stream",
          "text": [
            "-87 97\n"
          ]
        }
      ],
      "source": [
        "# Find the maximum and minimum values in the given list numbers\n",
        "# -100 < number < 100\n",
        "numbers = [-18, -26, -79, 71, 50, 94, -87, 29, -23, 68, 64, -46, 68, 97, -73, -51, 23, 17, 59, 21, 70, -60, -46, -19, -82, 79, 31, -47, 10, -29]\n",
        "\n",
        "# code\n",
        "min_value = 100\n",
        "max_value = -100\n",
        "for n in numbers:\n",
        "  if n < min_value:\n",
        "    min_value = n\n",
        "  if n > max_value:\n",
        "    max_value = n\n",
        "\n",
        "print(min_value, max_value)"
      ]
    },
    {
      "cell_type": "code",
      "execution_count": null,
      "metadata": {
        "id": "hnUrgwB92ZFH"
      },
      "outputs": [],
      "source": [
        "# Find the maximum and minimum values in the given list numbers\n",
        "# -100 < number < 100\n",
        "numbers = [-18, -26, -79, 71, 50, 94, -87, 29, -23, 68, 64, -46, 68, 97, -73, -51, 23, 17, 59, 21, 70, -60, -46, -19, -82, 79, 31, -47, 10, -29]\n",
        "\n",
        "# code\n",
        "min_value = min(numbers)\n",
        "min_value = max(numbers)\n",
        "\n",
        "print(min_value, min_value)"
      ]
    },
    {
      "cell_type": "markdown",
      "metadata": {
        "id": "2VscP-OiEfpB"
      },
      "source": [
        "# Function"
      ]
    },
    {
      "cell_type": "markdown",
      "metadata": {
        "id": "2Dl3WUqmE8kw"
      },
      "source": [
        "* Function declarations start with 'def'. Functions can either take parameters or not."
      ]
    },
    {
      "cell_type": "code",
      "execution_count": null,
      "metadata": {
        "id": "QsdLKSvWFKfV"
      },
      "outputs": [],
      "source": [
        "def sum(a, b):\n",
        "  result = a+b\n",
        "  return result\n",
        "\n",
        "sum_of_numbers = sum(10,20)\n",
        "print(sum_of_numbers)"
      ]
    },
    {
      "cell_type": "code",
      "execution_count": null,
      "metadata": {
        "id": "xKFLK5tpFYtx"
      },
      "outputs": [],
      "source": [
        "def greeting():\n",
        "  print(\"Hello!\")\n",
        "\n",
        "greeting()"
      ]
    },
    {
      "cell_type": "markdown",
      "metadata": {
        "id": "o7TFM9-BFrMU"
      },
      "source": [
        "# Class"
      ]
    },
    {
      "cell_type": "markdown",
      "metadata": {
        "id": "kf5ZocKuFwTF"
      },
      "source": [
        "* You can also define classes. Here is an example of a class."
      ]
    },
    {
      "cell_type": "code",
      "execution_count": 32,
      "metadata": {
        "id": "uorKa320FsuL"
      },
      "outputs": [],
      "source": [
        "class Person:\n",
        "  def __init__(self, name, age, address):\n",
        "    self.hello = 'Hello!'\n",
        "    self.name = name\n",
        "    self.age = age\n",
        "    self.address = address\n",
        "\n",
        "  def greeting(self):\n",
        "    print(f\"{self.hello} My name is {self.name}\")"
      ]
    },
    {
      "cell_type": "code",
      "execution_count": 33,
      "metadata": {
        "id": "JvlH3op6HAEA"
      },
      "outputs": [
        {
          "name": "stdout",
          "output_type": "stream",
          "text": [
            "Hello! My name is Alice\n",
            "name: Alice\n",
            "age: 25\n",
            "address: Hanyang\n"
          ]
        }
      ],
      "source": [
        "stranger = Person(name='Alice', age=25, address='Hanyang')\n",
        "stranger.greeting()\n",
        "\n",
        "print('name:', stranger.name)\n",
        "print('age:', stranger.age)\n",
        "print('address:', stranger.address)"
      ]
    },
    {
      "cell_type": "markdown",
      "metadata": {
        "id": "tHvSc-UY7bcB"
      },
      "source": [
        "## Class Variables\n",
        "* Class variables are defined within the class definition and are shared across all instances of that class. In other words, class variables have the same value for every object created from that class. They are typically used to store values that should be shared among all instances."
      ]
    },
    {
      "cell_type": "code",
      "execution_count": 34,
      "metadata": {
        "id": "0vcjns467l5T"
      },
      "outputs": [
        {
          "name": "stdout",
          "output_type": "stream",
          "text": [
            "Total Students: 2\n",
            "Total Students: 2\n",
            "2\n"
          ]
        }
      ],
      "source": [
        "class Student:\n",
        "    total_students = 0  # class variable\n",
        "\n",
        "    def __init__(self, name):\n",
        "        self.name = name  # instance variable\n",
        "        Student.total_students += 1  # update class variable\n",
        "\n",
        "    def display_count(self):\n",
        "        print(f\"Total Students: {Student.total_students}\")\n",
        "\n",
        "# Create instances\n",
        "s1 = Student(\"Alice\")\n",
        "s2 = Student(\"Bob\")\n",
        "\n",
        "# Print class variable\n",
        "s1.display_count()\n",
        "s2.display_count()\n",
        "\n",
        "print(Student.total_students)  # Output: 2"
      ]
    },
    {
      "cell_type": "markdown",
      "metadata": {
        "id": "b1UUq-y9egsN"
      },
      "source": [
        "## Class inheritance"
      ]
    },
    {
      "cell_type": "markdown",
      "metadata": {
        "id": "0mpgz4kQKgH8"
      },
      "source": [
        "**What is Class Inheritance?**\n",
        "\n",
        "\n",
        "Class inheritance is a crucial concept in Object-Oriented Programming (OOP). It allows a child class to inherit attributes and methods from its parent class.\n",
        "\n",
        "**Advantages**\n",
        "* Code Reusability: You can reuse the code from the parent class, making it easier to create new classes.\n",
        "* Ease of Maintenance: Any changes made to the parent class automatically reflect in the child class, making maintenance easier."
      ]
    },
    {
      "cell_type": "code",
      "execution_count": 36,
      "metadata": {
        "id": "-90g7t0AK9C2"
      },
      "outputs": [
        {
          "name": "stdout",
          "output_type": "stream",
          "text": [
            "Hello, my name is Alice.\n",
            "Hello, my name is Blair.\n"
          ]
        }
      ],
      "source": [
        "class Person:\n",
        "  def __init__(self, name):\n",
        "    self.name = name\n",
        "\n",
        "  def greet(self):\n",
        "    return f\"Hello, my name is {self.name}.\"\n",
        "\n",
        "class Student(Person):\n",
        "  def __init__(self, name, student_id):\n",
        "    # When super().__init__(name) is called, it invokes the __init__ method of the parent class Person.\n",
        "    super().__init__(name)\n",
        "    self.student_id = student_id\n",
        "\n",
        "    # greet method is not defined here\n",
        "\n",
        "# Create instances\n",
        "p = Person(\"Alice\")\n",
        "s = Student(\"Blair\", \"S12345\")\n",
        "\n",
        "# Test inherited method\n",
        "print(p.greet())  # Output: \"Hello, my name is Alice.\"\n",
        "print(s.greet())  # Output: \"Hello, my name is Bob.\""
      ]
    },
    {
      "cell_type": "markdown",
      "metadata": {
        "id": "1CDxKue_6tra"
      },
      "source": [
        "### Overriding\n",
        "\n",
        "Overriding occurs when a subclass provides its own implementation for a method that is already defined in its parent class. This allows the subclass to inherit all methods and attributes from the parent class but customize specific behavior."
      ]
    },
    {
      "cell_type": "code",
      "execution_count": 37,
      "metadata": {
        "id": "nPPUhWK36yy3"
      },
      "outputs": [
        {
          "name": "stdout",
          "output_type": "stream",
          "text": [
            "Some generic sound\n",
            "Woof\n",
            "Meow\n"
          ]
        }
      ],
      "source": [
        "class Animal:\n",
        "    def make_sound(self):\n",
        "        return \"Some generic sound\"\n",
        "\n",
        "class Dog(Animal):\n",
        "    def make_sound(self):\n",
        "        return \"Woof\"\n",
        "\n",
        "class Cat(Animal):\n",
        "    def make_sound(self):\n",
        "        return \"Meow\"\n",
        "\n",
        "# Create instances\n",
        "animal = Animal()\n",
        "dog = Dog()\n",
        "cat = Cat()\n",
        "\n",
        "# Test Overriding\n",
        "for creature in [animal, dog, cat]:\n",
        "    print(creature.make_sound())"
      ]
    },
    {
      "cell_type": "markdown",
      "metadata": {
        "id": "GQA18wea8Ilf"
      },
      "source": [
        "# Quiz \\#2\n"
      ]
    },
    {
      "cell_type": "code",
      "execution_count": null,
      "metadata": {
        "id": "DzyWDHqc-GIK"
      },
      "outputs": [],
      "source": [
        "class Shape:\n",
        "  def area(self):\n",
        "    return \"Area of shape cannot be defined.\"\n",
        "\n",
        "class Circle(Shape):\n",
        "  def __init__(self, radius):\n",
        "    self.radius = radius\n",
        "    self.pi = 3.14\n",
        "\n",
        "  # Override area method here\n",
        "\n",
        "class Square(Shape):\n",
        "  def __init__(self, side):\n",
        "    self.side = side\n",
        "\n",
        "# Override area method here\n",
        "\n",
        "\n",
        "circle = Circle(5)\n",
        "square = Square(4)\n",
        "\n",
        "print(circle.area())\n",
        "print(square.area())"
      ]
    },
    {
      "cell_type": "markdown",
      "metadata": {
        "id": "hjPcRPUgBBnA"
      },
      "source": [
        "### answer"
      ]
    },
    {
      "cell_type": "code",
      "execution_count": 38,
      "metadata": {
        "id": "6pmKafUsA601"
      },
      "outputs": [
        {
          "name": "stdout",
          "output_type": "stream",
          "text": [
            "78.5\n",
            "16\n"
          ]
        }
      ],
      "source": [
        "class Shape:\n",
        "  def area(self):\n",
        "    return \"Area of shape cannot be defined.\"\n",
        "\n",
        "class Circle(Shape):\n",
        "  def __init__(self, radius):\n",
        "    self.radius = radius\n",
        "    self.pi = 3.14\n",
        "\n",
        "  # Override area method here\n",
        "  def area(self):\n",
        "    return 3.14 * self.radius ** 2\n",
        "\n",
        "class Square(Shape):\n",
        "  def __init__(self, side):\n",
        "    self.side = side\n",
        "\n",
        "  # Override area method here\n",
        "  def area(self):\n",
        "    return self.side ** 2\n",
        "\n",
        "\n",
        "circle = Circle(5)\n",
        "square = Square(4)\n",
        "\n",
        "print(circle.area())\n",
        "print(square.area())"
      ]
    },
    {
      "cell_type": "markdown",
      "metadata": {
        "id": "8WH4lrCrrP9j"
      },
      "source": [
        "# Websites that can help with studying\n",
        "\n",
        "* Official Documentation https://docs.python.org/3/\n",
        "* 코딩도장 https://dojang.io/\n",
        "* 프로그래머스 https://programmers.co.kr/\n",
        "* 백준 온라인 저지 https://www.acmicpc.net/\n",
        "* 릿코드 https://leetcode.com/\n",
        "* 코드업 https://codeup.kr/"
      ]
    }
  ],
  "metadata": {
    "colab": {
      "collapsed_sections": [
        "hvl-N9bnCiFW",
        "qClyH64r0AMf"
      ],
      "provenance": []
    },
    "kernelspec": {
      "display_name": "Python 3",
      "name": "python3"
    },
    "language_info": {
      "codemirror_mode": {
        "name": "ipython",
        "version": 3
      },
      "file_extension": ".py",
      "mimetype": "text/x-python",
      "name": "python",
      "nbconvert_exporter": "python",
      "pygments_lexer": "ipython3",
      "version": "3.10.11"
    }
  },
  "nbformat": 4,
  "nbformat_minor": 0
}
